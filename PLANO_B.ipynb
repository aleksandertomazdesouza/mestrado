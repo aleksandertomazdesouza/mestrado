{
  "nbformat": 4,
  "nbformat_minor": 0,
  "metadata": {
    "colab": {
      "name": "PLANO_B.ipynb",
      "provenance": [],
      "mount_file_id": "1DmliYB2smFyH2Y-VZguEPfSQoX9YIjjq",
      "authorship_tag": "ABX9TyMUNAdNdgK1hNQUmUlfBFNQ",
      "include_colab_link": true
    },
    "kernelspec": {
      "name": "python3",
      "display_name": "Python 3"
    },
    "language_info": {
      "name": "python"
    }
  },
  "cells": [
    {
      "cell_type": "markdown",
      "metadata": {
        "id": "view-in-github",
        "colab_type": "text"
      },
      "source": [
        "<a href=\"https://colab.research.google.com/github/aleksandertomazdesouza/mestrado/blob/main/PLANO_B.ipynb\" target=\"_parent\"><img src=\"https://colab.research.google.com/assets/colab-badge.svg\" alt=\"Open In Colab\"/></a>"
      ]
    },
    {
      "cell_type": "markdown",
      "source": [
        "#Segurança de projeto\n",
        "##Plano B\n"
      ],
      "metadata": {
        "id": "EnHYhWjSNoOP"
      }
    },
    {
      "cell_type": "code",
      "source": [
        "!pip install conllu\n",
        "!pip install pyconll\n",
        "\n"
      ],
      "metadata": {
        "colab": {
          "base_uri": "https://localhost:8080/"
        },
        "id": "kk-MHgN9Nz_1",
        "outputId": "b5ec8fbe-c2dd-4424-d3e2-d05dd08ce5cd"
      },
      "execution_count": 5,
      "outputs": [
        {
          "output_type": "stream",
          "name": "stdout",
          "text": [
            "Requirement already satisfied: conllu in /usr/local/lib/python3.7/dist-packages (4.4.1)\n",
            "Requirement already satisfied: pyconll in /usr/local/lib/python3.7/dist-packages (3.1.0)\n"
          ]
        }
      ]
    },
    {
      "cell_type": "code",
      "source": [
        "import pyconll\n",
        "import pandas as pd\n",
        "import numpy as np\n",
        "import requests\n",
        "\n",
        "from io import open"
      ],
      "metadata": {
        "id": "5YJkLz-ljT6Y"
      },
      "execution_count": 7,
      "outputs": []
    },
    {
      "cell_type": "code",
      "source": [
        "# path = '/content/drive/MyDrive/MESTRADO/DISSERTAÇÃO MESTRADO/CODIGO/base_lines_consti_ud/'"
      ],
      "metadata": {
        "id": "GEp_7bAFN9li"
      },
      "execution_count": null,
      "outputs": []
    },
    {
      "cell_type": "code",
      "source": [
        "# conll_ = path + 'bl_anotada_snl.conllu'\n",
        "# bl = pyconll.load_from_file(conll_)"
      ],
      "metadata": {
        "id": "_oyt68kBOP3Q"
      },
      "execution_count": null,
      "outputs": []
    },
    {
      "cell_type": "code",
      "source": [
        "ath = 'https://raw.githubusercontent.com/Guimol/TBL-Brill/main/Corpus/bl_anotada_snl.conllu'\n",
        "\n",
        "r = requests.get(path, allow_redirects=True)\n",
        "open('conll_', 'wb').write(r.content)\n",
        "\n",
        "bl = pyconll.load_from_file('conll_')"
      ],
      "metadata": {
        "colab": {
          "base_uri": "https://localhost:8080/",
          "height": 356
        },
        "id": "wzHPPYZmh9zm",
        "outputId": "2e063e51-4096-4fcf-b819-01df0870cf39"
      },
      "execution_count": 9,
      "outputs": [
        {
          "output_type": "error",
          "ename": "ParseError",
          "evalue": "ignored",
          "traceback": [
            "\u001b[0;31m---------------------------------------------------------------------------\u001b[0m",
            "\u001b[0;31mParseError\u001b[0m                                Traceback (most recent call last)",
            "\u001b[0;32m<ipython-input-9-220886e0549d>\u001b[0m in \u001b[0;36m<module>\u001b[0;34m()\u001b[0m\n\u001b[1;32m      4\u001b[0m \u001b[0mopen\u001b[0m\u001b[0;34m(\u001b[0m\u001b[0;34m'conll_'\u001b[0m\u001b[0;34m,\u001b[0m \u001b[0;34m'wb'\u001b[0m\u001b[0;34m)\u001b[0m\u001b[0;34m.\u001b[0m\u001b[0mwrite\u001b[0m\u001b[0;34m(\u001b[0m\u001b[0mr\u001b[0m\u001b[0;34m.\u001b[0m\u001b[0mcontent\u001b[0m\u001b[0;34m)\u001b[0m\u001b[0;34m\u001b[0m\u001b[0;34m\u001b[0m\u001b[0m\n\u001b[1;32m      5\u001b[0m \u001b[0;34m\u001b[0m\u001b[0m\n\u001b[0;32m----> 6\u001b[0;31m \u001b[0mbl\u001b[0m \u001b[0;34m=\u001b[0m \u001b[0mpyconll\u001b[0m\u001b[0;34m.\u001b[0m\u001b[0mload_from_file\u001b[0m\u001b[0;34m(\u001b[0m\u001b[0;34m'conll_'\u001b[0m\u001b[0;34m)\u001b[0m\u001b[0;34m\u001b[0m\u001b[0;34m\u001b[0m\u001b[0m\n\u001b[0m",
            "\u001b[0;32m/usr/local/lib/python3.7/dist-packages/pyconll/load.py\u001b[0m in \u001b[0;36mload_from_file\u001b[0;34m(filename)\u001b[0m\n\u001b[1;32m     47\u001b[0m     \"\"\"\n\u001b[1;32m     48\u001b[0m     \u001b[0;32mwith\u001b[0m \u001b[0mopen\u001b[0m\u001b[0;34m(\u001b[0m\u001b[0mfilename\u001b[0m\u001b[0;34m,\u001b[0m \u001b[0mencoding\u001b[0m\u001b[0;34m=\u001b[0m\u001b[0;34m'utf-8'\u001b[0m\u001b[0;34m)\u001b[0m \u001b[0;32mas\u001b[0m \u001b[0mf\u001b[0m\u001b[0;34m:\u001b[0m\u001b[0;34m\u001b[0m\u001b[0;34m\u001b[0m\u001b[0m\n\u001b[0;32m---> 49\u001b[0;31m         \u001b[0mc\u001b[0m \u001b[0;34m=\u001b[0m \u001b[0mConll\u001b[0m\u001b[0;34m(\u001b[0m\u001b[0mf\u001b[0m\u001b[0;34m)\u001b[0m\u001b[0;34m\u001b[0m\u001b[0;34m\u001b[0m\u001b[0m\n\u001b[0m\u001b[1;32m     50\u001b[0m \u001b[0;34m\u001b[0m\u001b[0m\n\u001b[1;32m     51\u001b[0m     \u001b[0;32mreturn\u001b[0m \u001b[0mc\u001b[0m\u001b[0;34m\u001b[0m\u001b[0;34m\u001b[0m\u001b[0m\n",
            "\u001b[0;32m/usr/local/lib/python3.7/dist-packages/pyconll/unit/conll.py\u001b[0m in \u001b[0;36m__init__\u001b[0;34m(self, it)\u001b[0m\n\u001b[1;32m     31\u001b[0m         \u001b[0mself\u001b[0m\u001b[0;34m.\u001b[0m\u001b[0m_sentences\u001b[0m\u001b[0;34m:\u001b[0m \u001b[0mList\u001b[0m\u001b[0;34m[\u001b[0m\u001b[0mSentence\u001b[0m\u001b[0;34m]\u001b[0m \u001b[0;34m=\u001b[0m \u001b[0;34m[\u001b[0m\u001b[0;34m]\u001b[0m\u001b[0;34m\u001b[0m\u001b[0;34m\u001b[0m\u001b[0m\n\u001b[1;32m     32\u001b[0m \u001b[0;34m\u001b[0m\u001b[0m\n\u001b[0;32m---> 33\u001b[0;31m         \u001b[0;32mfor\u001b[0m \u001b[0msentence\u001b[0m \u001b[0;32min\u001b[0m \u001b[0mpyconll\u001b[0m\u001b[0;34m.\u001b[0m\u001b[0m_parser\u001b[0m\u001b[0;34m.\u001b[0m\u001b[0miter_sentences\u001b[0m\u001b[0;34m(\u001b[0m\u001b[0mit\u001b[0m\u001b[0;34m)\u001b[0m\u001b[0;34m:\u001b[0m\u001b[0;34m\u001b[0m\u001b[0;34m\u001b[0m\u001b[0m\n\u001b[0m\u001b[1;32m     34\u001b[0m             \u001b[0mself\u001b[0m\u001b[0;34m.\u001b[0m\u001b[0m_sentences\u001b[0m\u001b[0;34m.\u001b[0m\u001b[0mappend\u001b[0m\u001b[0;34m(\u001b[0m\u001b[0msentence\u001b[0m\u001b[0;34m)\u001b[0m\u001b[0;34m\u001b[0m\u001b[0;34m\u001b[0m\u001b[0m\n\u001b[1;32m     35\u001b[0m \u001b[0;34m\u001b[0m\u001b[0m\n",
            "\u001b[0;32m/usr/local/lib/python3.7/dist-packages/pyconll/_parser.py\u001b[0m in \u001b[0;36miter_sentences\u001b[0;34m(lines_it)\u001b[0m\n\u001b[1;32m     53\u001b[0m             \u001b[0msent_lines\u001b[0m\u001b[0;34m.\u001b[0m\u001b[0mappend\u001b[0m\u001b[0;34m(\u001b[0m\u001b[0mline\u001b[0m\u001b[0;34m)\u001b[0m\u001b[0;34m\u001b[0m\u001b[0;34m\u001b[0m\u001b[0m\n\u001b[1;32m     54\u001b[0m         \u001b[0;32melif\u001b[0m \u001b[0msent_lines\u001b[0m\u001b[0;34m:\u001b[0m\u001b[0;34m\u001b[0m\u001b[0;34m\u001b[0m\u001b[0m\n\u001b[0;32m---> 55\u001b[0;31m             \u001b[0msentence\u001b[0m \u001b[0;34m=\u001b[0m \u001b[0m_create_sentence\u001b[0m\u001b[0;34m(\u001b[0m\u001b[0msent_lines\u001b[0m\u001b[0;34m)\u001b[0m\u001b[0;34m\u001b[0m\u001b[0;34m\u001b[0m\u001b[0m\n\u001b[0m\u001b[1;32m     56\u001b[0m             \u001b[0msent_lines\u001b[0m\u001b[0;34m.\u001b[0m\u001b[0mclear\u001b[0m\u001b[0;34m(\u001b[0m\u001b[0;34m)\u001b[0m\u001b[0;34m\u001b[0m\u001b[0;34m\u001b[0m\u001b[0m\n\u001b[1;32m     57\u001b[0m \u001b[0;34m\u001b[0m\u001b[0m\n",
            "\u001b[0;32m/usr/local/lib/python3.7/dist-packages/pyconll/_parser.py\u001b[0m in \u001b[0;36m_create_sentence\u001b[0;34m(sent_lines)\u001b[0m\n\u001b[1;32m     24\u001b[0m     \"\"\"\n\u001b[1;32m     25\u001b[0m     \u001b[0msent_source\u001b[0m \u001b[0;34m=\u001b[0m \u001b[0;34m'\\n'\u001b[0m\u001b[0;34m.\u001b[0m\u001b[0mjoin\u001b[0m\u001b[0;34m(\u001b[0m\u001b[0msent_lines\u001b[0m\u001b[0;34m)\u001b[0m\u001b[0;34m\u001b[0m\u001b[0;34m\u001b[0m\u001b[0m\n\u001b[0;32m---> 26\u001b[0;31m     \u001b[0msentence\u001b[0m \u001b[0;34m=\u001b[0m \u001b[0mSentence\u001b[0m\u001b[0;34m(\u001b[0m\u001b[0msent_source\u001b[0m\u001b[0;34m)\u001b[0m\u001b[0;34m\u001b[0m\u001b[0;34m\u001b[0m\u001b[0m\n\u001b[0m\u001b[1;32m     27\u001b[0m \u001b[0;34m\u001b[0m\u001b[0m\n\u001b[1;32m     28\u001b[0m     \u001b[0;32mreturn\u001b[0m \u001b[0msentence\u001b[0m\u001b[0;34m\u001b[0m\u001b[0;34m\u001b[0m\u001b[0m\n",
            "\u001b[0;32m/usr/local/lib/python3.7/dist-packages/pyconll/unit/sentence.py\u001b[0m in \u001b[0;36m__init__\u001b[0;34m(self, source)\u001b[0m\n\u001b[1;32m     82\u001b[0m                             \u001b[0mself\u001b[0m\u001b[0;34m.\u001b[0m\u001b[0m_meta\u001b[0m\u001b[0;34m[\u001b[0m\u001b[0mk\u001b[0m\u001b[0;34m]\u001b[0m \u001b[0;34m=\u001b[0m \u001b[0;32mNone\u001b[0m\u001b[0;34m\u001b[0m\u001b[0;34m\u001b[0m\u001b[0m\n\u001b[1;32m     83\u001b[0m                 \u001b[0;32melse\u001b[0m\u001b[0;34m:\u001b[0m\u001b[0;34m\u001b[0m\u001b[0;34m\u001b[0m\u001b[0m\n\u001b[0;32m---> 84\u001b[0;31m                     \u001b[0mtoken\u001b[0m \u001b[0;34m=\u001b[0m \u001b[0mToken\u001b[0m\u001b[0;34m(\u001b[0m\u001b[0mline\u001b[0m\u001b[0;34m)\u001b[0m\u001b[0;34m\u001b[0m\u001b[0;34m\u001b[0m\u001b[0m\n\u001b[0m\u001b[1;32m     85\u001b[0m                     \u001b[0mself\u001b[0m\u001b[0;34m.\u001b[0m\u001b[0m_tokens\u001b[0m\u001b[0;34m.\u001b[0m\u001b[0mappend\u001b[0m\u001b[0;34m(\u001b[0m\u001b[0mtoken\u001b[0m\u001b[0;34m)\u001b[0m\u001b[0;34m\u001b[0m\u001b[0;34m\u001b[0m\u001b[0m\n\u001b[1;32m     86\u001b[0m \u001b[0;34m\u001b[0m\u001b[0m\n",
            "\u001b[0;32m/usr/local/lib/python3.7/dist-packages/pyconll/unit/token.py\u001b[0m in \u001b[0;36m__init__\u001b[0;34m(self, source, empty)\u001b[0m\n\u001b[1;32m    663\u001b[0m             error_msg = 'The number of columns per token line must be 10. Invalid token: {}'.format(\n\u001b[1;32m    664\u001b[0m                 source)\n\u001b[0;32m--> 665\u001b[0;31m             \u001b[0;32mraise\u001b[0m \u001b[0mParseError\u001b[0m\u001b[0;34m(\u001b[0m\u001b[0merror_msg\u001b[0m\u001b[0;34m)\u001b[0m\u001b[0;34m\u001b[0m\u001b[0;34m\u001b[0m\u001b[0m\n\u001b[0m\u001b[1;32m    666\u001b[0m \u001b[0;34m\u001b[0m\u001b[0m\n\u001b[1;32m    667\u001b[0m         \u001b[0;31m# Assign all the field values from the line to internal equivalents.\u001b[0m\u001b[0;34m\u001b[0m\u001b[0;34m\u001b[0m\u001b[0;34m\u001b[0m\u001b[0m\n",
            "\u001b[0;31mParseError\u001b[0m: The number of columns per token line must be 10. Invalid token: <!DOCTYPE html>"
          ]
        }
      ]
    },
    {
      "cell_type": "markdown",
      "source": [
        "# Tentativa 2"
      ],
      "metadata": {
        "id": "Xns8Ceg8Vrl1"
      }
    },
    {
      "cell_type": "code",
      "source": [
        "morfos = list()\n",
        "deprel = list()\n",
        "bio = list()\n",
        "headss = list()\n",
        "selecao = list()\n",
        "id = list()"
      ],
      "metadata": {
        "id": "eQoWliG0WBBJ"
      },
      "execution_count": null,
      "outputs": []
    },
    {
      "cell_type": "code",
      "source": [
        "def deprel_head(sentence):\n",
        "    pass\n",
        "\n",
        "    return sentence_heads_of_son_node\n"
      ],
      "metadata": {
        "id": "6Pbv5uXXkigi"
      },
      "execution_count": null,
      "outputs": []
    },
    {
      "cell_type": "code",
      "source": [
        "for sentences in bl:\n",
        "    # word_head_information = deprel_head(sentence)\n",
        "    for word in sentences:\n",
        "        \n",
        "        id.append(word.id)"
      ],
      "metadata": {
        "id": "KZhv-hYxIIaV"
      },
      "execution_count": null,
      "outputs": []
    },
    {
      "cell_type": "code",
      "source": [
        ""
      ],
      "metadata": {
        "colab": {
          "base_uri": "https://localhost:8080/"
        },
        "id": "hJ_wI-zVW6oO",
        "outputId": "359966ee-1abf-4567-eecf-5903f8bb6739"
      },
      "execution_count": null,
      "outputs": [
        {
          "output_type": "stream",
          "name": "stdout",
          "text": [
            "Empty DataFrame\n",
            "Columns: [head_w, deprel_w, upos_w, bio_w]\n",
            "Index: []\n"
          ]
        }
      ]
    },
    {
      "cell_type": "markdown",
      "source": [
        "# Tentativa 1"
      ],
      "metadata": {
        "id": "U7osp_PPVYZY"
      }
    },
    {
      "cell_type": "code",
      "source": [
        "# word_ = list()\n",
        "# word_rel_sentence = list()\n",
        "# bio_ = list()\n",
        "# bio_sentence = list()\n",
        "\n",
        "\n",
        "# for sentence in bl:\n",
        "#     for w_ in sentence:\n",
        "#         bio_.append(w_.xpos)\n",
        "\n",
        "#     bio_sentence.append(list(bio_))\n",
        "#     bio_.clear()\n",
        "\n",
        "\n",
        "# for sentence in bl:\n",
        "#     for w_ in sentence:\n",
        "#         word_.append((w_.lemma,w_.deprel)) #tentei por como tupla também não funcionou\n",
        "\n",
        "#     word_rel_sentence.append(list(word_))\n",
        "#     word_.clear()\n",
        "\n",
        "# for i in bio_sentence:\n",
        "#     print(i)\n",
        "\n",
        "    \n",
        "# for j in word_rel_sentence:\n",
        "#     print(j)"
      ],
      "metadata": {
        "id": "dlNzdvLwOT8S",
        "colab": {
          "base_uri": "https://localhost:8080/"
        },
        "outputId": "80f9b722-2e00-4e53-c4b8-3d46cc6ad9d7"
      },
      "execution_count": null,
      "outputs": [
        {
          "output_type": "stream",
          "name": "stdout",
          "text": [
            "['O', 'O', 'B', 'I', 'I', 'I', 'I', 'I', 'I', 'I', 'I', 'I', 'I', 'I', 'O', 'O', 'O', 'O', 'O', 'O', 'O', 'O', 'O', 'O', 'O', 'O', 'O', 'O', 'O', 'O', 'O', 'O', 'O']\n",
            "['B', 'I', 'I', 'I', 'I', 'I', 'O', 'B', 'I', 'I', 'I', 'I', 'I', 'I', 'O', 'B', 'I', 'I', 'I', 'I', 'I', 'I', 'I', 'I', 'O']\n",
            "['O', 'B', 'I', 'O', 'O', 'O', 'O', 'O', 'O', 'O', 'O', 'O', 'O', 'O', 'O', 'O', 'O', 'O', 'O', 'O', 'O', 'O', 'O', 'O', 'O', 'B', 'I', 'I', 'I', 'I', 'I', 'I', 'I', 'I', 'I', 'I', 'O', 'O', 'O']\n",
            "['B', 'I', 'O', 'O', 'O', 'B', 'B']\n",
            "['B', 'I', 'I', 'O', 'O', 'O']\n",
            "['O', 'B', 'I', 'I', 'I', 'I', 'I', 'O', 'O', 'O', 'O', 'B', 'I', 'I', 'I', 'I', 'I', 'O', 'O', 'O', 'O', 'O', 'B', 'B', 'O', 'O', 'O', 'O', 'B', 'I', 'I', 'I', 'I', 'I', 'I', 'O', 'B', 'I', 'I', 'O', 'O', 'B', 'I', 'I', 'I', 'I', 'I', 'I', 'I', 'I', 'I', 'I', 'O']\n",
            "['B', 'I', 'O', 'O', 'O', 'O', 'O', 'B', 'O', 'O', 'B', 'I', 'I', 'I', 'O', 'O', 'O', 'O', 'O', 'O', 'B', 'I', 'I', 'O']\n",
            "['O', 'B', 'I', 'O', 'O', 'B', 'I', 'I', 'O', 'O', 'B', 'I', 'O', 'O', 'O', 'O', 'O']\n",
            "['O', 'O', 'B', 'I', 'I', 'I', 'I', 'O', 'O', 'B', 'I', 'I', 'O', 'B', 'O']\n",
            "['O', 'O']\n",
            "['O', 'O', 'O', 'B', 'O', 'B', 'I', 'I', 'O', 'B', 'I', 'O', 'O', 'B', 'I', 'O', 'O', 'O', 'O', 'O', 'O', 'O', 'O', 'O', 'O', 'O', 'B', 'I', 'I', 'O', 'O', 'O', 'O', 'O', 'O', 'O', 'B', 'I', 'O']\n",
            "['B', 'O', 'O', 'O', 'O', 'O', 'O', 'O', 'O', 'B', 'I', 'O', 'O', 'O', 'B', 'O']\n",
            "['B', 'I', 'I', 'O', 'O', 'O', 'B', 'I', 'I', 'I', 'I', 'I', 'I', 'I', 'O']\n",
            "['B', 'I', 'O', 'B', 'I']\n",
            "['B', 'I', 'O', 'B', 'I', 'I', 'O', 'O', 'O', 'O', 'O', 'O', 'B', 'I', 'I', 'I', 'I', 'I', 'I', 'I']\n",
            "['B', 'I', 'I', 'O', 'O', 'O', 'O', 'O', 'O', 'O', 'O', 'O', 'O', 'B', 'I', 'I', 'O', 'O', 'O', 'B', 'I', 'I', 'O', 'O', 'O', 'B', 'I', 'O']\n",
            "['B', 'I', 'I', 'I', 'O', 'O', 'O', 'O', 'B', 'I', 'I', 'I', 'I', 'I', 'I', 'I', 'I', 'I', 'I', 'I', 'O']\n",
            "['B', 'I', 'I', 'I', 'O', 'O', 'B', 'I', 'I', 'I', 'I', 'I', 'I', 'O']\n",
            "['B', 'O', 'O', 'O', 'O', 'B', 'O']\n",
            "['O', 'O', 'B', 'I', 'O', 'O', 'O', 'O']\n",
            "['O', 'O', 'O', 'O', 'O', 'B', 'I', 'O', 'B', 'I', 'I', 'I', 'I', 'I', 'O', 'O', 'O', 'O', 'O', 'O', 'B', 'I', 'I', 'I', 'I', 'O']\n",
            "['O', 'O', 'O', 'B', 'I', 'I', 'O', 'O', 'O', 'B', 'I', 'O', 'O', 'B', 'I', 'O', 'O', 'B', 'I', 'I', 'O']\n",
            "['O', 'O', 'O', 'O', 'O', 'O', 'O', 'O', 'O', 'O', 'O', 'O', 'O', 'B', 'I', 'I', 'I', 'I', 'O', 'B', 'I', 'I', 'I', 'I', 'I', 'O', 'O', 'O', 'O', 'O', 'O', 'B', 'I', 'O']\n",
            "['O', 'B', 'I', 'I', 'I', 'I', 'I', 'I', 'I', 'O']\n",
            "['B', 'I', 'I', 'O', 'O', 'O', 'O', 'O', 'O', 'B', 'I', 'I', 'I', 'I', 'I', 'I', 'I', 'I', 'I', 'I', 'I', 'O', 'O', 'O', 'O', 'O']\n",
            "['B', 'O', 'B', 'I', 'I', 'I', 'O', 'O', 'O', 'B', 'I', 'O', 'O', 'B', 'I', 'O', 'O', 'B', 'O', 'O', 'B', 'O']\n",
            "['O', 'B', 'I', 'I', 'I', 'O', 'O', 'O', 'B', 'I', 'I', 'I', 'I', 'I', 'I', 'I', 'I', 'I', 'I', 'I', 'O']\n",
            "['O', 'O', 'O', 'O', 'B', 'I', 'O', 'B', 'I', 'I', 'I', 'I', 'I', 'I', 'I', 'I', 'I', 'O']\n",
            "['O', 'O', 'B', 'I', 'O', 'O', 'B', 'I', 'O', 'O', 'O', 'O', 'B', 'I', 'O', 'O', 'O', 'O', 'O']\n",
            "['O', 'O', 'O', 'O', 'O', 'B', 'I', 'O', 'O', 'O', 'O', 'O', 'O', 'O', 'O', 'O', 'O', 'O', 'B', 'I', 'O', 'O', 'B', 'I', 'I', 'I', 'O', 'O', 'O', 'O', 'O', 'O', 'O', 'O', 'O', 'B', 'B', 'B', 'B', 'B', 'O', 'O', 'O', 'O', 'O', 'O', 'O', 'B', 'I', 'O', 'O', 'O', 'O', 'O', 'O', 'O', 'O', 'O', 'O', 'O', 'O', 'O', 'O']\n",
            "['O', 'O', 'O', 'O', 'O', 'O', 'B', 'I', 'I', 'I', 'I', 'I', 'O', 'O', 'O', 'O']\n",
            "['O', 'B', 'I', 'I', 'I', 'I', 'I', 'O', 'B', 'I', 'I', 'I', 'O']\n",
            "['B', 'I']\n",
            "['O', 'O', 'O', 'O', 'B', 'I', 'O', 'O', 'O', 'O', 'O', 'B', 'I', 'I', 'I', 'I', 'I', 'O', 'B', 'I', 'O', 'O', 'O', 'O', 'O', 'O', 'O', 'B', 'I', 'I', 'I', 'I', 'O']\n",
            "['O', 'O', 'B', 'O', 'O', 'B', 'I', 'I', 'I', 'I', 'O', 'O', 'O', 'O', 'O', 'O', 'O', 'O', 'O', 'O', 'O', 'O', 'O', 'O', 'O', 'O']\n",
            "['O', 'B', 'I', 'I', 'O', 'O', 'O', 'O', 'O', 'O', 'O', 'O', 'O', 'O', 'O', 'O', 'O', 'O', 'O']\n",
            "['O', 'O', 'O', 'O', 'B', 'I', 'I', 'I', 'I', 'I', 'O', 'B', 'I', 'I', 'O', 'B', 'I', 'I', 'I', 'I', 'I', 'I', 'O', 'O', 'O', 'O', 'O', 'O', 'O', 'O', 'O', 'O', 'O', 'O', 'I', 'I', 'I', 'I', 'O', 'O', 'O', 'B', 'O']\n",
            "['B', 'O', 'B', 'I', 'I', 'I', 'I', 'I', 'O']\n",
            "['B', 'I', 'I', 'I', 'I', 'I', 'O', 'O', 'O', 'O', 'O', 'O', 'O', 'O', 'O', 'O', 'O', 'B', 'I', 'O', 'O', 'B', 'I', 'I', 'I', 'O', 'O']\n",
            "['B', 'I', 'I', 'O', 'O', 'O', 'O', 'O', 'B', 'I', 'I', 'I', 'O', 'O', 'B', 'I', 'I', 'I', 'I', 'O', 'B', 'B', 'B', 'O']\n",
            "['B', 'O', 'O', 'O', 'O', 'B', 'I', 'I', 'I', 'O', 'O', 'O', 'O']\n",
            "['B', 'I', 'O', 'B', 'O', 'O', 'O', 'O', 'B', 'O', 'B', 'I', 'I', 'O', 'O', 'O', 'O', 'O', 'O', 'O', 'O']\n",
            "['B', 'I', 'O', 'O', 'B', 'I', 'I', 'O', 'B', 'O', 'O', 'B', 'I', 'I', 'I', 'I', 'O']\n",
            "['B', 'O', 'O', 'O', 'B', 'I', 'I', 'I', 'I', 'I', 'O']\n",
            "['O', 'B', 'O', 'O', 'O', 'O', 'O', 'O', 'O', 'O', 'O', 'O', 'O', 'O', 'O', 'B', 'I', 'O', 'O', 'O', 'O', 'O', 'B', 'O', 'O']\n",
            "['B', 'I', 'I', 'O', 'O', 'B', 'I', 'O']\n",
            "['O', 'B', 'I', 'O']\n",
            "['O', 'O', 'O', 'O', 'O', 'B', 'I', 'O', 'O', 'O', 'O', 'O', 'O', 'O', 'O', 'B', 'I', 'I', 'O', 'O', 'O', 'O', 'O', 'B', 'I']\n",
            "['B', 'I', 'I', 'I', 'I', 'I', 'I', 'I', 'I', 'I', 'O', 'O', 'B', 'I', 'I', 'I', 'I', 'I', 'O']\n",
            "['O', 'O', 'O', 'O', 'O', 'O', 'O', 'O', 'O', 'B', 'I', 'O']\n",
            "['O', 'O', 'O', 'B', 'I', 'I', 'O', 'O', 'B', 'I', 'O', 'B', 'I', 'O']\n",
            "['B', 'O', 'B', 'I', 'I']\n",
            "['O', 'O', 'O', 'B', 'O', 'B', 'O', 'O', 'B', 'I', 'I', 'I', 'I', 'I', 'O']\n",
            "['O', 'O', 'O']\n",
            "['B', 'I', 'O', 'B', 'I', 'O', 'O', 'B', 'O']\n",
            "['B', 'I', 'O', 'O', 'O', 'O', 'O', 'O', 'B', 'I', 'I', 'I', 'I', 'I', 'O', 'B', 'I', 'I', 'I', 'I', 'O', 'B', 'I', 'I', 'I', 'I', 'I', 'I', 'I', 'I', 'O', 'O', 'O', 'O', 'O', 'O', 'B', 'I', 'I', 'I', 'I', 'O']\n",
            "['O', 'O', 'B', 'I', 'I', 'O', 'O', 'O', 'O', 'O', 'B', 'I', 'I', 'I', 'I', 'O', 'O', 'B', 'I', 'I', 'I', 'I', 'I', 'I', 'O']\n",
            "['B', 'I']\n",
            "['B', 'I', 'O', 'O', 'O', 'B', 'I', 'O']\n",
            "['O', 'O', 'O', 'B', 'I', 'O', 'O', 'O', 'O', 'O', 'O', 'O', 'O', 'O', 'O', 'O', 'O', 'O', 'O', 'O', 'O', 'O', 'B', 'I', 'I', 'I', 'I', 'O']\n",
            "['O', 'B', 'I', 'O', 'O', 'B', 'I', 'O', 'O', 'O', 'B', 'I', 'I', 'I', 'O', 'B', 'I', 'I', 'I', 'I', 'I', 'O', 'B', 'I', 'O', 'B', 'I', 'I', 'I', 'I', 'I', 'I', 'I', 'O', 'O', 'O', 'O', 'O', 'O']\n",
            "['B', 'I']\n",
            "['B', 'I', 'I', 'I', 'I', 'I', 'I', 'I', 'I', 'O', 'B', 'I', 'I', 'O', 'O', 'O', 'B', 'I', 'I', 'I', 'I', 'I', 'I', 'I', 'O']\n",
            "['B', 'O', 'O', 'O', 'B', 'I', 'I', 'O', 'O', 'O', 'B', 'I', 'O', 'O', 'O', 'O', 'O', 'O', 'B', 'I', 'O', 'O', 'O', 'B', 'I', 'O', 'B', 'I', 'O']\n",
            "['B', 'I', 'O', 'O', 'O', 'B', 'O']\n",
            "['O', 'O', 'O', 'O', 'B', 'I', 'I', 'I', 'I', 'I', 'O', 'B', 'I', 'I', 'O', 'B', 'I', 'I', 'I', 'I', 'I', 'I', 'I', 'I', 'I', 'I', 'I', 'O', 'B', 'I', 'I', 'I', 'I', 'I', 'I', 'I', 'I', 'I', 'I', 'I', 'O']\n",
            "['B', 'O', 'O', 'O', 'O', 'O', 'B', 'I', 'O', 'O', 'O', 'O', 'O', 'O', 'B', 'I', 'O']\n",
            "['O', 'O', 'B', 'I', 'I', 'I', 'I', 'I', 'I', 'I', 'I', 'I', 'O']\n",
            "['O', 'O', 'B', 'I', 'O', 'B', 'I', 'O', 'O', 'B', 'I', 'I', 'I', 'O', 'O', 'O', 'O', 'B', 'I', 'O', 'O', 'O', 'O', 'B', 'I', 'I', 'I', 'I', 'I', 'I', 'I', 'I', 'O']\n",
            "['B', 'I', 'O']\n",
            "['O', 'O', 'B', 'I', 'O']\n",
            "['O', 'O', 'B', 'I', 'I', 'O', 'O', 'O', 'O', 'O', 'B', 'I', 'I', 'O', 'O', 'O', 'O', 'O', 'O', 'B', 'O', 'B', 'I', 'O']\n",
            "['O', 'O', 'B']\n",
            "['B', 'I', 'I', 'I', 'I', 'I', 'O', 'O', 'O', 'O', 'O', 'O', 'O', 'O', 'O', 'O', 'O', 'B', 'I', 'O', 'B', 'I', 'O']\n",
            "['B', 'I', 'O', 'B', 'I', 'I', 'O', 'O', 'B', 'I', 'I', 'I', 'I', 'I', 'I', 'O']\n",
            "['B', 'I', 'O', 'O', 'O', 'O', 'B', 'I', 'I', 'I', 'I', 'I', 'O', 'O', 'B', 'O', 'B', 'O', 'O', 'B', 'I', 'I', 'O']\n",
            "['B', 'I', 'O', 'B', 'I', 'O', 'O', 'B', 'I', 'O', 'O', 'B', 'I', 'I', 'I', 'O', 'B', 'I', 'I', 'I', 'O']\n",
            "['B', 'I', 'O', 'B', 'O']\n",
            "['O', 'O', 'O', 'O', 'B', 'O', 'B', 'I', 'I', 'O', 'O', 'O', 'O', 'O', 'O', 'O']\n",
            "['O', 'O', 'B', 'I', 'I', 'I', 'O', 'O', 'O', 'O', 'B', 'I', 'I', 'O', 'O', 'B', 'I', 'I', 'I', 'O', 'O', 'O', 'O', 'O', 'O', 'O']\n",
            "['B', 'I', 'O', 'O', 'B', 'O', 'O', 'O', 'B', 'I', 'I', 'I', 'I', 'I', 'I', 'I', 'O', 'O', 'O', 'O', 'O', 'O', 'O', 'O', 'O', 'O', 'O', 'O', 'O', 'O', 'B', 'I', 'I', 'I', 'I', 'I', 'I', 'I', 'I', 'I', 'I', 'I', 'O', 'O', 'O', 'B', 'I', 'O']\n",
            "['B', 'I', 'I', 'I', 'O', 'B', 'I', 'I', 'I', 'O', 'B', 'O']\n",
            "['O', 'I', 'I', 'O', 'O', 'O', 'B', 'I', 'I', 'I', 'O', 'B', 'I', 'I', 'I', 'O', 'O', 'O', 'B', 'O']\n",
            "['B', 'O', 'B', 'I']\n",
            "['B', 'I', 'O', 'O', 'O', 'O', 'O', 'B', 'I', 'I', 'I', 'I', 'I', 'O', 'O', 'O', 'B', 'I', 'I', 'I', 'I', 'O', 'O', 'O', 'B', 'I', 'I', 'I', 'I', 'I', 'I', 'O']\n",
            "['O', 'B', 'O']\n",
            "['B', 'I', 'O', 'O', 'O', 'O', 'O', 'O', 'O', 'O', 'O', 'O', 'B', 'I', 'O', 'O', 'O', 'B', 'I', 'I', 'I', 'I', 'I', 'O', 'O', 'B', 'O', 'O', 'O', 'B', 'I', 'I', 'I', 'I', 'O']\n",
            "['O', 'O', 'O', 'O', 'B', 'I', 'I', 'I', 'I', 'I', 'O', 'O', 'O', 'O']\n",
            "['O', 'O', 'O', 'B', 'I', 'I', 'O', 'O', 'O', 'O', 'B', 'I', 'I', 'I', 'I', 'I', 'I', 'I', 'I', 'I', 'I', 'O']\n",
            "['O', 'O', 'O', 'O', 'B', 'I', 'I', 'O', 'O', 'O', 'B', 'I', 'O']\n",
            "['B', 'I', 'O', 'O', 'O', 'O', 'O', 'B', 'O', 'O', 'B', 'I', 'O']\n",
            "['O', 'O', 'B', 'I', 'I', 'I', 'O', 'O', 'O', 'O', 'O', 'O', 'O', 'B', 'I', 'O']\n",
            "['O', 'O', 'O', 'B', 'I', 'O', 'O', 'O', 'B', 'I', 'O', 'O', 'O', 'O', 'O', 'B', 'I', 'O', 'O', 'O', 'O', 'O', 'O']\n",
            "['B', 'O', 'B', 'I', 'I', 'I', 'O', 'O', 'O', 'O', 'O', 'O', 'O', 'O']\n",
            "['O', 'O', 'O', 'B', 'I', 'I', 'I', 'O', 'O', 'O', 'O', 'B', 'I', 'O']\n",
            "['B', 'O', 'O', 'B', 'I', 'I', 'I', 'O', 'B', 'I', 'O', 'O', 'B']\n",
            "['O', 'O', 'B', 'I', 'I', 'I', 'I', 'I', 'I', 'I', 'I', 'O', 'O', 'O', 'O', 'B', 'I', 'O', 'O', 'O', 'O', 'B', 'I', 'I', 'I', 'O', 'O', 'B', 'I', 'I', 'I', 'I', 'O', 'O']\n",
            "['O', 'O', 'O', 'O', 'O', 'B', 'I', 'I', 'O', 'O', 'O', 'O', 'O', 'O']\n",
            "['O', 'O', 'O', 'O', 'B', 'I', 'I', 'O', 'B', 'I', 'O', 'O', 'B', 'I', 'I', 'I', 'I', 'I', 'O']\n",
            "['B', 'I', 'I', 'I', 'I', 'I', 'O', 'O', 'O', 'O', 'O', 'O', 'O', 'O', 'O', 'O', 'O', 'O', 'O', 'O', 'O', 'O', 'O', 'O', 'O', 'O', 'O', 'B', 'I', 'I', 'I', 'I', 'I', 'I', 'O']\n",
            "['B', 'O']\n",
            "['O', 'O', 'B', 'I']\n",
            "[('esse', 'nsubj'), ('ser', 'cop'), ('o', 'det'), ('avaliação', 'root'), (None, None), ('de', 'case'), ('o', 'det'), ('Instituto', 'nmod'), ('Internacional', 'flat:name'), ('de', 'case'), ('Estudos', 'nmod'), ('Estratégicos', 'flat:name'), ('de', 'case'), ('Londres', 'nmod'), ('(', 'punct'), ('IIEE', 'appos'), (')', 'punct'), (',', 'punct'), ('um', 'appos'), (None, None), ('de', 'case'), ('o', 'det'), ('mais', 'advmod'), ('importante', 'amod'), ('centro', 'nmod'), ('de', 'case'), ('pesquisa', 'nmod'), ('militar', 'amod'), (None, None), ('de', 'case'), ('o', 'det'), ('Ocidente', 'nmod'), ('.', 'punct')]\n",
            "[('o', 'det'), ('acordo', 'nsubj'), (None, None), ('de', 'case'), ('o', 'det'), ('dívida', 'nmod'), ('implicar', 'root'), ('o', 'det'), ('troca', 'obj'), (None, None), ('de', 'case'), ('o', 'det'), ('papel', 'nmod'), ('atual', 'amod'), ('por', 'case'), ('um', 'det'), ('combinação', 'nmod'), ('de', 'case'), ('cinco', 'nummod'), ('tipo', 'nmod'), ('diferente', 'amod'), ('de', 'case'), ('novo', 'amod'), ('papel', 'nmod'), ('.', 'punct')]\n",
            "[('para', 'case'), ('o', 'det'), ('volante', 'obl'), ('Dinho', 'appos'), (',', 'punct'), ('um', 'appos'), (None, None), ('de', 'case'), ('o', 'det'), ('jogador', 'nmod'), ('responsável', 'amod'), (None, None), ('por', 'case'), ('o', 'det'), ('setor', 'obl'), ('de', 'case'), ('marcação', 'nmod'), (None, None), ('de', 'case'), ('o', 'det'), ('Santos', 'nmod'), (',', 'punct'), ('ser', 'cop'), ('impossível', 'root'), ('segurar', 'csubj'), ('o', 'det'), ('ataque', 'obj'), (None, None), ('de', 'case'), ('o', 'det'), ('São', 'nmod'), ('Paulo', 'flat:name'), (None, None), ('de', 'case'), ('o', 'det'), ('técnico', 'nmod'), ('Telê', 'appos'), ('Santana', 'flat:name'), ('.', 'punct')]\n",
            "[('o', 'det'), ('reunião', 'nsubj'), ('terminar', 'root'), ('ontem', 'advmod'), ('em', 'case'), ('Budapeste', 'obl'), ('.', 'punct')]\n",
            "[('CONCERTOS', 'root'), ('INTERNACIONAIS', 'flat:name'), ('GLOBO', 'flat:name'), (',', 'punct'), ('0h', 'appos'), ('.', 'punct')]\n",
            "[('segundo', 'case'), ('o', 'det'), ('presidente', 'obl'), (None, None), ('de', 'case'), ('o', 'det'), ('Corecon', 'nmod'), (',', 'punct'), ('Hélio', 'appos'), ('Portocarrero', 'flat:name'), (',', 'punct'), ('o', 'det'), ('inflação', 'nsubj:pass'), (None, None), ('de', 'case'), ('o', 'det'), ('real', 'nmod'), ('não', 'advmod'), ('ser', 'aux:pass'), ('puxar', 'root'), (None, None), ('por', 'case'), ('o', 'det'), ('oligopólio', 'obl:agent'), (',', 'punct'), ('apontar', 'acl'), (None, None), ('por', 'case'), ('o', 'det'), ('equipe', 'obl:agent'), ('econômico', 'amod'), (None, None), ('de', 'case'), ('o', 'det'), ('governo', 'nmod'), ('como', 'case'), ('o', 'det'), ('principal', 'amod'), ('vilão', 'xcomp'), (None, None), ('em', 'case'), ('o', 'det'), ('subida', 'nmod'), ('de', 'case'), ('preço', 'nmod'), ('após', 'case'), ('o', 'det'), ('implantação', 'nmod'), (None, None), ('de', 'case'), ('o', 'det'), ('urv', 'nmod'), ('.', 'punct')]\n",
            "[('Moreira', 'nsubj'), ('Alves', 'flat:name'), ('também', 'advmod'), ('votar', 'root'), ('a', 'case'), ('favor', 'obl'), ('de', 'case'), ('Collor', 'nmod'), ('em', 'case'), ('outro', 'det'), ('dois', 'nummod'), ('mandato', 'obl'), ('de', 'case'), ('segurança', 'nmod'), (',', 'punct'), ('mas', 'cc'), ('ser', 'aux:pass'), ('vencer', 'conj'), (None, None), ('em', 'case'), ('o', 'det'), ('dois', 'nummod'), ('julgamento', 'obl'), ('.', 'punct')]\n",
            "[('apenas', 'advmod'), ('dois', 'nummod'), ('árbitro', 'nsubj'), ('resolver', 'root'), ('contar', 'xcomp'), ('todo', 'det'), ('o', 'det'), ('podre', 'obj'), (',', 'punct'), ('enquanto', 'advmod'), ('o', 'det'), ('federação', 'nsubj'), ('ter', 'advcl'), ('mais', 'advmod'), ('de', 'fixed'), ('70', 'obj'), ('.', 'punct')]\n",
            "[('estar', 'cop'), ('presente', 'root'), ('dirigente', 'nsubj'), (None, None), ('de', 'case'), ('o', 'det'), ('futebol', 'nmod'), (',', 'punct'), ('e', 'cc'), ('autoridade', 'conj'), ('policial', 'amod'), ('civil', 'conj'), ('e', 'cc'), ('militar', 'conj'), ('.', 'punct')]\n",
            "[('felicitar', 'root'), ('.', 'punct')]\n",
            "[('convencer', 'advcl'), ('de', 'mark'), ('que', 'mark'), ('Munhoz', 'nsubj'), ('ter', 'ccomp'), ('um', 'det'), ('bom', 'amod'), ('retórica', 'obj'), (',', 'punct'), ('o', 'det'), ('publicitário', 'nsubj'), ('pretender', 'root'), ('deixar', 'xcomp'), ('o', 'det'), ('candidato', 'nsubj'), ('«', 'punct'), ('falar', 'ccomp'), ('o', 'obj'), ('que', 'obj'), ('querer', 'acl:relcl'), ('»', 'punct'), ('para', 'mark'), (',', 'punct'), ('antes', 'advmod'), (None, None), ('de', 'case'), ('o', 'det'), ('gravação', 'obl'), ('final', 'amod'), (',', 'punct'), ('decidir', 'advcl'), ('o', 'obj'), ('que', 'nsubj'), ('ir', 'acl:relcl'), (None, None), ('a', 'case'), ('o', 'det'), ('ar', 'obl'), ('.', 'punct')]\n",
            "[('Muller', 'nsubj'), ('chegar', 'root'), (None, None), ('a', 'case'), ('o', 'det'), ('5h25', 'obl'), ('de', 'case'), ('hoje', 'advmod'), ('a', 'case'), ('São', 'obl'), ('Paulo', 'flat:name'), (',', 'punct'), ('vir', 'advcl'), ('de', 'case'), ('Londres', 'obl'), ('.', 'punct')]\n",
            "[('o', 'det'), ('grande', 'amod'), ('desaceleração', 'nsubj'), ('ocorrer', 'root'), (None, None), ('em', 'case'), ('o', 'det'), ('região', 'obl'), (None, None), ('de', 'case'), ('o', 'det'), ('Avenida', 'nmod'), ('Faria', 'flat:name'), ('Lima', 'flat:name'), ('.', 'punct')]\n",
            "[('modelo', 'root'), ('sindical', 'amod'), ('e', 'cc'), ('negociação', 'conj'), ('coletivo', 'amod')]\n",
            "[('o', 'det'), ('equipe', 'nsubj'), ('enfrentar', 'root'), ('o', 'det'), ('time', 'obj'), ('carioca', 'amod'), (None, None), ('a', 'case'), ('o', 'det'), ('20h30', 'obl'), (None, None), ('em', 'case'), ('o', 'det'), ('ginásio', 'obl'), (None, None), ('de', 'case'), ('o', 'det'), ('Tijuca', 'nmod'), ('Tênis', 'flat:name'), ('Clune', 'flat:name')]\n",
            "[('o', 'det'), ('venda', 'nsubj'), ('bruto', 'amod'), ('cair', 'root'), ('de', 'case'), ('US$', 'obl'), ('3,78', 'nummod'), ('bilhão', 'flat'), ('para', 'case'), ('US$', 'obl'), ('3,57', 'nummod'), ('bilhão', 'flat'), (',', 'punct'), ('consequência', 'obl'), ('de', 'case'), ('redução', 'nmod'), ('tanto', 'cc'), (None, None), ('em', 'case'), ('o', 'det'), ('mercado', 'nmod'), ('interno', 'amod'), ('como', 'cc'), (None, None), ('em', 'case'), ('o', 'det'), ('externo', 'conj'), ('.', 'punct')]\n",
            "[('o', 'det'), ('intervenção', 'nsubj'), ('diplomático', 'amod'), ('russo', 'amod'), ('ser', 'cop'), ('decisivo', 'root'), ('para', 'mark'), ('evitar', 'advcl'), ('o', 'det'), ('envolvimento', 'obj'), ('ocidental', 'amod'), (None, None), ('em', 'case'), ('o', 'det'), ('guerra', 'obl'), ('civil', 'amod'), (None, None), ('em', 'case'), ('o', 'det'), ('Bósnia', 'obl'), ('.', 'punct')]\n",
            "[('o', 'det'), ('seu', 'det'), ('100', 'nummod'), ('quilômetro', 'nsubj'), ('já', 'advmod'), ('levar', 'root'), ('este', 'det'), ('ano', 'obl'), ('200', 'nummod'), ('mil', 'flat'), ('tonelada', 'obj'), ('de', 'case'), ('soja', 'nmod'), ('.', 'punct')]\n",
            "[('custo', 'root'), (':', 'punct'), ('US$', 'appos'), ('8', 'nummod'), ('por', 'case'), ('tonelada', 'nmod'), ('.', 'punct')]\n",
            "[(None, None), ('em', 'case'), ('o', 'det'), ('sul', 'nmod'), (',', 'punct'), ('US$', 'root'), ('24', 'nummod'), ('!', 'punct')]\n",
            "[('por', 'case'), ('que', 'obl'), ('não', 'advmod'), ('publicar', 'root'), ('que', 'mark'), ('o', 'det'), ('PT', 'nsubj'), ('fazer', 'ccomp'), ('um', 'det'), ('seminário', 'obj'), (None, None), ('em', 'case'), ('o', 'det'), ('nordeste', 'obl'), ('sobre', 'case'), ('ela', 'nmod'), ('e', 'cc'), ('concluir', 'conj'), (None, None), ('por', 'case'), ('o', 'det'), ('necessidade', 'obl'), ('de', 'case'), ('seu', 'det'), ('construção', 'nmod'), ('?', 'punct')]\n",
            "[('até', 'case'), ('agora', 'advmod'), (',', 'punct'), ('o', 'det'), ('Bradesco', 'nsubj'), ('VISA', 'flat:name'), ('financiar', 'root'), ('em', 'case'), ('até', 'case'), ('quatro', 'nmod'), ('parcela', 'obl'), (',', 'punct'), ('com', 'case'), ('o', 'det'), ('juro', 'nmod'), ('cobrar', 'acl'), ('sobre', 'case'), ('o', 'det'), ('cruzeiro', 'obl'), ('real', 'amod'), ('.', 'punct')]\n",
            "[('jovem', 'amod'), ('estudante', 'obl'), (None, None), ('em', 'case'), ('o', 'det'), ('Belo', 'nmod'), ('Horizonte', 'flat:name'), (None, None), ('de', 'case'), ('o', 'det'), ('ano', 'nmod'), ('20', 'nummod'), (',', 'punct'), ('o', 'det'), ('futuro', 'amod'), ('médico', 'nsubj'), ('Juscelino', 'appos'), ('Kubitschek', 'flat:name'), ('e', 'cc'), ('o', 'det'), ('futuro', 'amod'), ('advogado', 'conj'), ('José', 'appos'), ('Maria', 'flat:name'), ('Alkimin', 'flat:name'), ('costumar', 'root'), ('sair', 'xcomp'), ('junto', 'advmod'), ('em', 'case'), ('busca', 'obl'), ('de', 'case'), ('moça', 'nmod'), ('namoradeiro', 'amod'), ('.', 'punct')]\n",
            "[('abrir', 'root'), ('o', 'det'), ('perspectiva', 'obj'), ('de', 'case'), ('aplicação', 'nmod'), ('por', 'case'), ('prazo', 'nmod'), ('mais', 'advmod'), ('longo', 'amod'), ('.', 'punct')]\n",
            "[('o', 'det'), ('nosso', 'det'), ('jogo', 'nsubj'), ('aqui', 'advmod'), ('ser', 'cop'), ('prevenção', 'parataxis'), ('»', 'punct'), (',', 'punct'), ('dizer', 'root'), ('o', 'det'), ('secretário', 'nsubj'), ('de', 'case'), ('Segurança', 'nmod'), ('Pública', 'flat:name'), (None, None), ('de', 'case'), ('o', 'det'), ('estado', 'nmod'), ('de', 'case'), ('São', 'nmod'), ('Paulo', 'flat:name'), (',', 'punct'), ('Antônio', 'appos'), ('Correia', 'flat:name'), ('Meyer', 'flat:name'), ('.', 'punct')]\n",
            "[('Collor', 'nsubj'), ('receber', 'root'), ('telefonema', 'obj'), ('o', 'det'), ('tempo', 'obl'), ('inteiro', 'amod'), (',', 'punct'), (None, None), ('de', 'case'), ('o', 'det'), ('advogado', 'nmod'), (',', 'punct'), ('de', 'case'), ('político', 'conj'), ('amigo', 'amod'), ('e', 'cc'), ('de', 'case'), ('pessoa', 'conj'), ('que', 'nsubj'), ('prestar', 'acl:relcl'), ('solidariedade', 'obj'), ('.', 'punct')]\n",
            "[('para', 'case'), ('o', 'det'), ('psicanalista', 'nmod'), ('Carl', 'appos'), ('Jung', 'flat:name'), (',', 'punct'), ('este', 'nsubj'), ('ser', 'cop'), ('o', 'det'), ('origem', 'root'), (None, None), ('de', 'case'), ('o', 'det'), ('globo', 'nmod'), ('pendurar', 'acl'), (None, None), ('em', 'case'), ('o', 'det'), ('árvore', 'obj'), ('contemporâneo', 'amod'), ('.', 'punct')]\n",
            "[('isto', 'nsubj'), ('restringir', 'root'), (None, None), ('a', 'case'), ('o', 'det'), ('Urv', 'iobj'), ('todo', 'det'), ('o', 'det'), ('poder', 'obj'), (None, None), ('de', 'case'), ('o', 'det'), ('moeda', 'nmod'), (None, None), ('de', 'case'), ('o', 'det'), ('país', 'nmod'), ('.', 'punct')]\n",
            "[(None, None), ('a', 'case'), ('o', 'det'), ('noite', 'obl'), ('vir', 'root'), ('a', 'case'), ('São', 'obl'), ('Paulo', 'flat:name'), ('para', 'mark'), ('participar', 'advcl'), (None, None), ('de', 'case'), ('o', 'det'), ('programa', 'obj'), ('«', 'punct'), ('Fogo', 'appos'), ('Cruzado', 'flat:name'), ('»', 'punct'), ('.', 'punct')]\n",
            "[('além', 'advmod'), ('de', 'case'), ('muito', 'advmod'), ('ruim', 'obl'), (',', 'punct'), ('o', 'det'), ('filme', 'nsubj'), ('«', 'punct'), ('O', 'appos'), ('Magnata', 'flat:name'), ('Grego', 'flat:name'), ('»', 'punct'), ('(', 'punct'), ('The', 'appos'), ('Greek', 'flat:name'), ('Tycoon', 'flat:name'), (')', 'punct'), ('dedicar', 'root'), ('mais', 'det'), ('atenção', 'obj'), (None, None), ('a', 'case'), ('o', 'det'), ('seu', 'det'), ('segundo', 'amod'), ('marido', 'iobj'), (',', 'punct'), ('interpretar', 'acl'), ('por', 'case'), ('Anthony', 'obl:agent'), ('Quinn', 'flat:name'), (',', 'punct'), ('que', 'nsubj'), ('aliás', 'advmod'), ('fazer', 'acl:relcl'), ('o', 'det'), ('papel', 'obj'), ('de', 'case'), ('Sócrates', 'nmod'), ('Onassis', 'flat:name'), ('(', 'punct'), ('sogro', 'appos'), ('de', 'case'), ('Jackie', 'nmod'), (')', 'punct'), (None, None), ('em', 'case'), ('o', 'det'), ('telefilme', 'obl'), ('«', 'punct'), ('Onassis:', 'appos'), ('The', 'flat:name'), ('Richest', 'flat:name'), ('Man', 'flat:name'), ('in', 'flat:name'), ('the', 'flat:name'), ('World', 'flat:name'), ('»', 'punct'), (',', 'punct'), ('produzir', 'acl'), ('em', 'case'), ('1988', 'obl'), ('.', 'punct')]\n",
            "[('sequer', 'advmod'), ('ele', 'iobj'), ('ocorrer', 'root'), ('que', 'mark'), ('em', 'case'), ('fevereiro', 'obl'), ('o', 'det'), ('«', 'punct'), ('excesso', 'nsubj:pass'), ('»', 'punct'), ('de', 'case'), ('aumento', 'nmod'), ('poder', 'csubj'), ('ser', 'aux:pass'), ('compensar', 'xcomp'), ('.', 'punct')]\n",
            "[('parar', 'csubj'), ('esse', 'det'), ('ataque', 'obj'), (None, None), ('em', 'case'), ('o', 'det'), ('bloqueio', 'nmod'), ('ser', 'cop'), ('um', 'det'), ('missão', 'root'), ('quase', 'advmod'), ('impossível', 'amod'), ('.', 'punct')]\n",
            "[('o', 'det'), ('jogo', 'root')]\n",
            "[('ter', 'root'), (',', 'punct'), ('então', 'advmod'), (',', 'punct'), ('um', 'det'), ('meio-campo', 'obj'), ('ainda', 'advmod'), ('mais', 'advmod'), ('sólido', 'amod'), (None, None), ('em', 'case'), ('o', 'det'), ('proteção', 'nmod'), (None, None), ('a', 'case'), ('o', 'det'), ('zaga', 'nmod'), ('e', 'cc'), ('mais', 'advmod'), ('inteligente', 'conj'), (',', 'punct'), ('veloz', 'conj'), ('e', 'cc'), ('agressivo', 'conj'), (',', 'punct'), (None, None), ('em', 'case'), ('o', 'det'), ('combinação', 'nmod'), ('com', 'case'), ('o', 'det'), ('ataque', 'nmod'), ('.', 'punct')]\n",
            "[('coincidentemente', 'advmod'), (',', 'punct'), ('Jason', 'nsubj'), ('também', 'advmod'), ('levar', 'root'), ('o', 'det'), ('grande', 'amod'), ('número', 'obj'), ('de', 'case'), ('bala', 'nmod'), ('(', 'punct'), ('132', 'appos'), (')', 'punct'), (',', 'punct'), ('contra', 'case'), ('27', 'obl'), ('de', 'case'), ('Michael', 'nmod'), ('Myers', 'flat:name'), ('e', 'cc'), ('apenas', 'advmod'), ('seis', 'conj'), ('de', 'case'), ('Freddy', 'nmod'), ('Krueger', 'flat:name'), ('.', 'punct')]\n",
            "[('durante', 'case'), ('o', 'det'), ('almoço', 'obl'), ('familiar', 'amod'), (',', 'punct'), ('por', 'advmod'), ('exemplo', 'fixed'), (',', 'punct'), (None, None), ('falar', 'root'), ('se', 'nsubj'), ('muito', 'advmod'), ('sobre', 'case'), ('quase', 'advmod'), ('nada', 'obj'), ('e', 'cc'), ('ninguém', 'nsubj'), ('mastigar', 'conj'), ('.', 'punct')]\n",
            "[('como', 'case'), ('exemplo', 'xcomp'), (None, None), ('em', 'case'), ('o', 'det'), ('combate', 'nmod'), (None, None), ('a', 'case'), ('o', 'det'), ('violência', 'nmod'), (',', 'punct'), ('o', 'det'), ('prefeito', 'nsubj'), ('carioca', 'amod'), ('citar', 'root'), ('o', 'det'), ('criação', 'obj'), (None, None), ('de', 'case'), ('o', 'det'), ('Guarda', 'nmod'), ('Municipal', 'flat:name'), (',', 'punct'), ('um', 'det'), ('grupo', 'appos'), ('de', 'case'), ('atividade', 'nmod'), ('especial', 'amod'), ('que', 'nsubj'), ('ter', 'aux'), ('atuar', 'acl:relcl'), ('mais', 'advmod'), (None, None), ('em', 'case'), ('o', 'det'), ('liberação', 'obj'), ('de', 'case'), ('área', 'nmod'), ('tradicionalmente', 'advmod'), ('ocupar', 'acl'), ('por', 'case'), ('camelô', 'obl:agent'), ('.', 'punct')]\n",
            "[('Santana', 'nsubj'), ('ser', 'cop'), ('morador', 'root'), ('antigo', 'amod'), ('de', 'case'), ('Lambari', 'obl'), (\"d'\", 'flat:name'), ('Oeste', 'flat:name'), ('.', 'punct')]\n",
            "[('o', 'det'), ('presidente', 'nsubj'), (None, None), ('de', 'case'), ('o', 'det'), ('Cooper', 'nmod'), (',', 'punct'), ('Benedito', 'appos'), ('Vieira', 'flat:name'), ('Pereira', 'flat:name'), (',', 'punct'), ('49', 'conj'), (',', 'punct'), ('afirmar', 'root'), ('que', 'mark'), ('pretender', 'ccomp'), ('distribuir', 'xcomp'), ('leite', 'obj'), ('c', 'nmod'), (None, None), ('em', 'case'), ('o', 'det'), ('posto', 'obl'), ('de', 'case'), ('venda', 'nmod'), ('hoje', 'advmod'), ('.', 'punct')]\n",
            "[('o', 'det'), ('campanha', 'nsubj'), ('eleitoral', 'amod'), (None, None), ('encerrar', 'root'), ('se', 'expl'), (None, None), ('em', 'case'), ('o', 'det'), ('noite', 'obl'), ('de', 'case'), ('quinta-feira', 'nmod'), (',', 'punct'), ('com', 'case'), ('um', 'det'), ('pronunciamento', 'nmod'), ('de', 'case'), ('oito', 'nummod'), ('minuto', 'nmod'), ('de', 'case'), ('todo', 'det'), ('o', 'det'), ('candidato', 'nmod'), ('.', 'punct')]\n",
            "[('Gilmar', 'nsubj'), ('pretender', 'root'), ('votar', 'xcomp'), (None, None), ('em', 'case'), ('o', 'det'), ('senador', 'obj'), ('Esperidião', 'appos'), ('Amin', 'flat:name'), ('(', 'punct'), ('PPR-SC', 'parataxis'), (')', 'punct'), ('.', 'punct')]\n",
            "[('o', 'det'), ('CBD', 'nsubj'), ('aliciar', 'root'), ('Leônidas', 'obj'), ('(', 'punct'), ('Vasco', 'parataxis'), (')', 'punct'), (',', 'punct'), ('Luizinho', 'conj'), ('e', 'cc'), ('Waldemar', 'conj'), ('de', 'case'), ('Brito', 'nmod'), ('(', 'punct'), ('São', 'appos'), ('Paulo', 'flat:name'), (')', 'punct'), (',', 'punct'), ('entre', 'case'), ('outro', 'obl'), ('.', 'punct')]\n",
            "[('o', 'det'), ('governo', 'nsubj'), ('receber', 'root'), ('ontem', 'advmod'), ('outro', 'det'), ('má', 'amod'), ('notícia', 'obj'), (':', 'punct'), ('empresário', 'nsubj'), ('se', 'expl'), ('declarar', 'acl:relcl'), ('contrário', 'xcomp'), (None, None), ('a', 'case'), ('o', 'det'), ('CIP', 'obl'), ('.', 'punct')]\n",
            "[('estilista', 'nsubj'), ('estar', 'root'), (None, None), ('a', 'case'), ('o', 'det'), ('disposição', 'obl'), (None, None), ('de', 'case'), ('o', 'det'), ('cliente', 'nmod'), ('.', 'punct')]\n",
            "[('segundo', 'case'), ('Rosa', 'obl'), (',', 'punct'), ('nutricionista', 'appos'), ('e', 'cc'), ('professora', 'conj'), (None, None), ('de', 'case'), ('o', 'det'), ('PUC', 'nmod'), ('de', 'case'), ('campina', 'nmod'), (',', 'punct'), ('junto', 'advmod'), ('com', 'case'), ('o', 'det'), ('alimento', 'obl'), ('se', 'expl'), ('«', 'punct'), ('ingerir', 'root'), ('e', 'cc'), ('digerir', 'conj'), ('afeto', 'nsubj'), ('»', 'punct'), ('.', 'punct')]\n",
            "[('o', 'det'), ('direção', 'nsubj'), ('geral', 'amod'), ('ser', 'cop'), ('de', 'case'), ('Paulo', 'root'), ('Borges', 'flat:name'), ('.', 'punct')]\n",
            "[('só', 'advmod'), ('intelectual', 'root'), ('quatro-olhos', 'nmod'), ('?', 'punct')]\n",
            "[('se', 'mark'), ('poder', 'advcl'), ('nós', 'obj'), ('orgulhar', 'xcomp'), ('de', 'case'), ('nosso', 'det'), ('futebol', 'iobj'), (',', 'punct'), ('não', 'advmod'), ('poder', 'root'), ('dizer', 'xcomp'), ('o', 'det'), ('mesmo', 'xcomp'), (None, None), ('de', 'case'), ('o', 'det'), ('nosso', 'det'), ('árbitro', 'obj'), (',', 'punct'), ('aqui', 'advmod'), ('representar', 'acl'), ('exatamente', 'advmod'), ('por', 'case'), ('Marsiglia', 'obl:agent'), ('.', 'punct')]\n",
            "[('muito', 'nsubj'), (None, None), ('de', 'case'), ('o', 'det'), ('prioridade', 'nmod'), (None, None), ('de', 'case'), ('o', 'det'), ('novo', 'amod'), ('governo', 'nmod'), ('coincidir', 'root'), ('com', 'case'), ('o', 'det'), ('prioridade', 'obj'), (None, None), ('de', 'case'), ('o', 'det'), ('PT', 'nmod'), ('.', 'punct')]\n",
            "[('adorar', 'root'), ('se', 'mark'), ('você', 'nsubj'), ('«', 'punct'), ('engordar', 'ccomp'), ('»', 'punct'), ('um', 'advmod'), ('pouco', 'fixed'), ('mais', 'advmod'), ('o', 'det'), ('Folhateen', 'obj'), ('.', 'punct')]\n",
            "[('e', 'cc'), (',', 'punct'), ('para', 'case'), ('um', 'det'), ('efeito', 'obl'), ('extra', 'amod'), (',', 'punct'), ('citar', 'root'), ('G.', 'obj'), ('Love', 'flat:name'), ('and', 'cc'), ('Special', 'obj'), ('Sauce', 'flat:name'), ('.', 'punct')]\n",
            "[('papa', 'nsubj'), ('indicar', 'root'), ('mulher', 'obj'), ('para', 'case'), ('secretaria', 'iobj')]\n",
            "[('pois', 'discourse'), ('é', 'fixed'), (',', 'punct'), ('Palmeiras', 'nsubj'), ('e', 'cc'), ('Corinthians', 'conj'), ('fazer', 'root'), ('hoje', 'advmod'), ('o', 'det'), ('finalíssima', 'obj'), (None, None), ('de', 'case'), ('o', 'det'), ('brasileiro', 'nmod'), ('.', 'punct')]\n",
            "[('não', 'advmod'), ('eu', 'obj'), ('comprometer', 'root')]\n",
            "[('o', 'det'), ('Otker', 'nsubj'), ('e', 'cc'), ('o', 'det'), ('Somel', 'conj'), ('ir', 'aux'), ('pedir', 'root'), ('contraprova', 'obj'), ('.', 'punct')]\n",
            "[('o', 'det'), ('ex-prefeita', 'nsubj'), ('Luiza', 'appos'), ('Erundina', 'flat:name'), ('participar', 'root'), ('hoje', 'advmod'), (None, None), ('de', 'case'), ('o', 'det'), ('divulgação', 'obj'), ('de', 'case'), ('um', 'det'), ('balanço', 'nmod'), ('comparativo', 'amod'), ('entre', 'case'), ('seu', 'det'), ('administração', 'nmod'), ('89', 'nummod'), ('a', 'case'), ('92', 'nmod'), ('e', 'cc'), ('o', 'det'), ('primeiro', 'amod'), ('ano', 'conj'), (None, None), ('de', 'case'), ('o', 'det'), ('gestão', 'nmod'), ('Paulo', 'appos'), ('Maluf', 'flat:name'), (None, None), ('a', 'case'), ('o', 'det'), ('frente', 'nmod'), (None, None), ('de', 'case'), ('o', 'det'), ('prefeitura', 'nmod'), ('de', 'case'), ('São', 'nmod'), ('Paulo', 'flat:name'), ('.', 'punct')]\n",
            "[('comentar', 'root'), ('com', 'case'), ('meu', 'det'), ('amigo', 'iobj'), ('espanhol', 'amod'), (',', 'punct'), ('Dolores', 'appos'), ('de', 'case'), ('Pança', 'nmod'), (',', 'punct'), ('o', 'det'), ('profusão', 'obj'), ('de', 'case'), ('beijo', 'nmod'), ('melar', 'acl'), ('que', 'nsubj'), ('massacrar', 'acl:relcl'), ('meu', 'det'), ('aveludado', 'amod'), ('bochecha', 'obj'), (None, None), ('em', 'case'), ('o', 'det'), ('bienal', 'obl'), ('.', 'punct')]\n",
            "[('claro', 'amod'), ('evidência', 'root')]\n",
            "[('o', 'det'), ('menina', 'nsubj'), ('morrer', 'root'), (None, None), ('em', 'case'), ('o', 'det'), ('hora', 'obl'), ('.', 'punct')]\n",
            "[('«', 'punct'), ('eles', 'nsubj'), ('ser', 'cop'), ('o', 'det'), ('razão', 'ccomp'), ('de', 'mark'), ('tudo', 'det'), ('o', 'det'), ('que', 'obj'), ('fazer', 'acl'), (',', 'punct'), ('de', 'case'), ('tudo', 'det'), ('aquilo', 'conj'), ('em', 'mark'), ('que', 'obj'), ('acreditar', 'acl:relcl'), ('»', 'punct'), (',', 'punct'), ('dizer', 'root'), (',', 'punct'), ('com', 'case'), ('grande', 'amod'), ('espaço', 'obl'), ('entre', 'case'), ('o', 'det'), ('palavra', 'nmod'), ('.', 'punct')]\n",
            "[('com', 'case'), ('o', 'det'), ('Servaz', 'obl'), (',', 'punct'), ('segundo', 'case'), ('o', 'det'), ('documento', 'obl'), ('obter', 'acl'), (None, None), ('por', 'case'), ('o', 'det'), ('folha', 'obl:agent'), ('o', 'det'), ('Odebrecht', 'nsubj'), ('acertar', 'root'), ('o', 'det'), ('pagamento', 'obj'), ('de', 'case'), ('US$', 'nmod'), ('110', 'nummod'), ('mil', 'flat'), ('mais', 'cc'), ('uma', 'nummod'), ('porcentagem', 'conj'), ('referente', 'advmod'), ('a', 'case'), ('obra', 'obl'), ('de', 'case'), ('abastecimento', 'nmod'), ('de', 'case'), ('água', 'nmod'), ('em', 'case'), ('Roraima', 'obl'), (',', 'punct'), ('ainda', 'mark'), ('a', 'fixed'), ('ser', 'aux:pass'), ('licitar', 'advcl'), ('.', 'punct')]\n",
            "[('liberdade', 'root'), ('sindical', 'amod')]\n",
            "[('o', 'det'), ('taxa', 'nsubj'), ('de', 'case'), ('juro', 'nmod'), ('equivalente', 'amod'), (None, None), ('de', 'case'), ('o', 'det'), ('CDBs', 'nmod'), ('diminuir', 'root'), ('2,31', 'nummod'), ('ponto', 'obj'), ('percentual', 'amod'), ('em', 'case'), ('relação', 'obl'), (None, None), ('a', 'case'), ('o', 'det'), ('média', 'nmod'), (None, None), ('de', 'case'), ('o', 'det'), ('último', 'amod'), ('segunda-feira', 'nmod'), ('.', 'punct')]\n",
            "[('peixe', 'nsubj'), ('passar', 'root'), ('a', 'mark'), ('ter', 'xcomp'), ('gosto', 'obj'), ('de', 'case'), ('carne', 'nmod'), ('para', 'case'), ('eu', 'obl'), ('e', 'cc'), ('um', 'det'), ('noite', 'obl'), (None, None), ('de', 'case'), ('este', 'det'), (',', 'punct'), (None, None), ('em', 'case'), ('o', 'det'), ('rodeio', 'obl'), (',', 'punct'), ('eu', 'nsubj'), ('confundir', 'conj'), ('salsicha', 'obj'), ('caseiro', 'amod'), ('com', 'case'), ('frango', 'iobj'), ('kebab', 'nmod'), ('.', 'punct')]\n",
            "[('o', 'det'), ('reunião', 'nsubj'), ('terminar', 'root'), ('ontem', 'advmod'), ('em', 'case'), ('Budapeste', 'obl'), ('.', 'punct')]\n",
            "[('mas', 'cc'), ('a', 'case'), ('bordo', 'obl'), ('de', 'case'), ('um', 'det'), (\"'\", 'punct'), ('cadillac', 'nmod'), (\"'\", 'punct'), ('preto', 'amod'), ('conversível', 'amod'), (',', 'punct'), ('o', 'det'), ('presidente', 'nsubj'), ('Menem', 'appos'), ('atravessar', 'root'), ('o', 'det'), ('pista', 'obj'), (None, None), ('de', 'case'), ('o', 'det'), ('parque', 'nmod'), (None, None), ('de', 'case'), ('o', 'det'), ('Sociedade', 'nmod'), ('Rural', 'flat:name'), ('Argentina', 'flat:name'), ('sob', 'case'), ('o', 'det'), ('aplauso', 'obl'), (None, None), ('de', 'case'), ('o', 'det'), ('platéia', 'nmod'), ('de', 'case'), ('cerca', 'advmod'), ('de', 'fixed'), ('10', 'nummod'), ('mil', 'flat'), ('agricultor', 'nmod'), ('.', 'punct')]\n",
            "[('Romário', 'nsubj'), ('ser', 'cop'), ('querido', 'parataxis'), (',', 'punct'), ('mas', 'cc'), ('em', 'case'), ('certos', 'det'), ('bar', 'obl'), ('ele', 'nsubj'), ('não', 'advmod'), ('entravar', 'conj'), ('»', 'punct'), (',', 'punct'), ('dizer', 'root'), ('um', 'det'), ('taxista', 'nsubj'), ('.', 'punct')]\n",
            "[('querer', 'root'), ('ser', 'cop'), ('uma', 'obl'), (None, None), ('de', 'case'), ('o', 'det'), ('bom', 'amod'), ('atriz', 'nmod'), (None, None), ('de', 'case'), ('o', 'det'), ('mundo', 'nmod'), ('.', 'punct')]\n",
            "[(None, None), ('em', 'case'), ('o', 'det'), ('PPR', 'nmod'), (',', 'punct'), ('o', 'det'), ('discussão', 'nsubj'), ('ser', 'cop'), ('sobre', 'case'), ('o', 'det'), ('política', 'root'), ('de', 'case'), ('aliança', 'nmod'), ('e', 'cc'), ('se', 'mark'), ('ela', 'nsubj'), ('incluir', 'conj'), ('o', 'det'), ('psdb', 'obj'), (',', 'punct'), ('além', 'cc'), (None, None), ('de', 'fixed'), ('o', 'det'), ('novo', 'amod'), ('candidato', 'conj'), (None, None), ('de', 'case'), ('o', 'det'), ('partido', 'nmod'), ('a', 'case'), ('presidente', 'nmod'), ('.', 'punct')]\n",
            "[('fantasia', 'root'), ('infantil', 'amod'), (':', 'punct')]\n",
            "[('não', 'advmod'), ('ser', 'cop'), ('o', 'det'), ('único', 'root'), ('.', 'punct')]\n",
            "[('quem', 'nsubj'), ('experimentar', 'csubj'), ('o', 'det'), ('último', 'amod'), ('versão', 'obj'), ('(', 'punct'), ('safra', 'appos'), ('91', 'nummod'), (')', 'punct'), ('descobrir', 'root'), ('um', 'det'), ('vinho', 'obj'), ('novo', 'amod'), ('ainda', 'advmod'), (',', 'punct'), ('adstringente', 'amod'), (',', 'punct'), ('mas', 'cc'), ('de', 'case'), ('aroma', 'conj'), ('e', 'cc'), ('sabor', 'conj'), ('intenso', 'amod'), ('.', 'punct')]\n",
            "[('enquanto', 'advmod'), ('ser', 'cop'), ('tempo', 'root')]\n",
            "[('o', 'det'), ('nível', 'nsubj'), (None, None), ('de', 'case'), ('o', 'det'), ('depósito', 'nmod'), ('aumentar', 'root'), ('440', 'nummod'), ('%', 'obj'), (',', 'punct'), ('em', 'case'), ('1993', 'obl'), (',', 'punct'), ('basicamente', 'advmod'), ('em', 'case'), ('função', 'obl'), ('de', 'case'), ('depósito', 'nmod'), ('interfinanceiro', 'amod'), ('e', 'cc'), ('a', 'case'), ('prazo', 'conj'), ('.', 'punct')]\n",
            "[('o', 'det'), ('cantora', 'nsubj'), ('e', 'cc'), ('violinista', 'conj'), ('Meca', 'appos'), ('Vargas', 'flat:name'), ('não', 'advmod'), ('fazer', 'root'), ('coro', 'obj'), ('com', 'case'), ('o', 'det'), ('contente', 'nmod'), ('com', 'case'), ('o', 'det'), ('computador', 'obl'), ('.', 'punct')]\n",
            "[('esse', 'det'), ('dificuldade', 'nsubj'), (',', 'punct'), ('que', 'nsubj'), ('surgir', 'acl:relcl'), ('desde', 'case'), ('o', 'det'), ('lançamento', 'obl'), (None, None), ('de', 'case'), ('o', 'det'), ('idéia', 'nmod'), (',', 'punct'), ('estimular', 'root'), ('economista', 'obj'), ('e', 'cc'), ('governo', 'conj'), ('a', 'mark'), ('buscar', 'xcomp'), ('caminho', 'obj'), ('mais', 'advmod'), ('rápido', 'amod'), ('.', 'punct')]\n",
            "[('o', 'det'), ('produtor', 'nsubj'), ('iniciar', 'root'), ('o', 'det'), ('colheita', 'obj'), (',', 'punct'), ('em', 'case'), ('fevereiro', 'obl'), ('passado', 'amod'), (',', 'punct'), ('de', 'case'), ('170', 'nummod'), ('hectare', 'nmod'), ('de', 'case'), ('amendoim', 'nmod'), ('e', 'cc'), ('240', 'nummod'), ('hectare', 'conj'), ('de', 'case'), ('soja', 'nmod'), ('.', 'punct')]\n",
            "[('o', 'det'), ('mar', 'nsubj'), ('ser', 'cop'), ('cristalino', 'root'), ('.', 'punct')]\n",
            "[('tomar', 'acl'), ('de', 'case'), ('surpresa', 'obl'), (',', 'punct'), ('Santana', 'nsubj'), ('dar', 'root'), ('um', 'det'), ('sorriso', 'obj'), ('amarelo', 'amod'), (',', 'punct'), ('mas', 'cc'), ('logo', 'advmod'), (None, None), ('recuperar', 'conj'), ('se', 'expl'), (':', 'punct')]\n",
            "[(None, None), ('em', 'case'), ('o', 'det'), ('noite', 'obl'), ('de', 'case'), ('ontem', 'advmod'), (',', 'punct'), ('haver', 'root'), ('cerca', 'advmod'), ('de', 'fixed'), ('3.000', 'nummod'), ('pessoa', 'obj'), ('reter', 'acl'), (None, None), ('em', 'case'), ('o', 'det'), ('aeroporto', 'obl'), ('de', 'case'), ('Ezeiza', 'nmod'), (',', 'punct'), ('o', 'det'), ('principal', 'amod'), ('de', 'case'), ('Buenos', 'nmod'), ('Aires', 'flat:name'), ('.', 'punct')]\n",
            "[('o', 'det'), ('vitrina', 'nsubj'), ('sempre', 'advmod'), ('guardar', 'root'), ('surpresa', 'obj'), (',', 'punct'), ('variar', 'advcl'), ('desde', 'case'), ('o', 'det'), ('caro', 'amod'), ('refinamento', 'obl'), (None, None), ('de', 'case'), ('o', 'det'), ('avenida', 'nmod'), ('Montaigne', 'appos'), ('(', 'punct'), ('que', 'nsubj'), ('concentrar', 'acl:relcl'), ('o', 'det'), ('alto', 'amod'), ('costura', 'obj'), (',', 'punct'), (None, None), ('em', 'case'), ('o', 'det'), ('Champs', 'obl'), ('Elysèes', 'flat:name'), (')', 'punct'), ('até', 'case'), ('o', 'det'), ('pechincha', 'obl'), (None, None), ('em', 'case'), ('o', 'det'), ('pequeno', 'amod'), ('loja', 'nmod'), ('espalhar', 'acl'), (None, None), ('por', 'case'), ('o', 'det'), ('cidade', 'obl'), ('e', 'cc'), (None, None), ('em', 'case'), ('o', 'det'), ('magazine', 'conj'), ('.', 'punct')]\n",
            "[('o', 'det'), ('reunião', 'nsubj'), ('de', 'case'), ('bispo', 'nmod'), ('discutir', 'root'), ('o', 'det'), ('vida', 'obj'), ('de', 'case'), ('padre', 'nmod'), ('e', 'cc'), ('freira', 'conj'), ('.', 'punct')]\n",
            "[('enquanto', 'mark'), ('Gloria', 'nsubj'), ('Pires', 'flat:name'), ('ficar', 'advcl'), ('nervoso', 'xcomp'), ('em', 'case'), ('seu', 'det'), ('estréia', 'obl'), ('como', 'case'), ('modette', 'nmod'), (',', 'punct'), ('o', 'det'), ('marido', 'nsubj'), ('Orlando', 'appos'), ('Moraes', 'flat:name'), ('amar', 'root'), ('e', 'cc'), ('pedir', 'conj'), ('bis', 'obj'), ('.', 'punct')]\n",
            "[('Argentina', 'nsubj'), ('produzir', 'root'), ('mais', 'det'), ('petróleo', 'obj')]\n",
            "[('o', 'det'), ('atentado', 'nsubj:pass'), ('ter', 'aux'), ('ser', 'aux:pass'), ('planejar', 'root'), (None, None), ('por', 'case'), ('o', 'det'), ('grupo', 'obl:agent'), ('radical', 'amod'), ('islâmico', 'amod'), (\"Gama'a\", 'appos'), ('al-Islamiya', 'flat:name'), (',', 'punct'), ('que', 'nsubj'), ('lançar', 'acl:relcl'), ('campanha', 'obj'), ('contra', 'case'), ('o', 'det'), ('governo', 'nmod'), ('egípcio', 'amod'), ('em', 'case'), ('1992', 'obl'), ('para', 'case'), ('o', 'det'), ('criação', 'obl'), ('de', 'case'), ('um', 'det'), ('estado', 'nmod'), ('islâmico', 'amod'), ('fundamentalista', 'amod'), ('.', 'punct')]\n",
            "[('haver', 'root'), ('tiroteio', 'obj'), ('.', 'punct')]\n",
            "[('o', 'det'), ('Chacal', 'nsubj'), ('chegar', 'root'), ('ontem', 'advmod'), (None, None), ('a', 'case'), ('o', 'det'), ('10h30', 'obl'), ('(', 'punct'), ('5h30', 'appos'), (None, None), ('em', 'case'), ('o', 'det'), ('Brasil', 'nmod'), (')', 'punct'), (None, None), ('a', 'case'), ('o', 'det'), ('Palácio', 'obj'), (None, None), ('de', 'case'), ('o', 'det'), ('Justiça', 'nmod'), (',', 'punct'), ('usar', 'advcl'), ('algema', 'obj'), ('e', 'cc'), ('cercar', 'conj'), ('por', 'case'), ('um', 'det'), ('forte', 'amod'), ('esquema', 'obl:agent'), ('de', 'case'), ('segurança', 'nmod'), ('.', 'punct')]\n",
            "[('mas', 'cc'), ('aceitar', 'parataxis'), ('porque', 'advmod'), ('ser', 'cop'), ('um', 'det'), ('gentileza', 'advcl'), (None, None), ('de', 'case'), ('o', 'det'), ('governador', 'nmod'), ('»', 'punct'), (',', 'punct'), ('dizer', 'root'), ('.', 'punct')]\n",
            "[('segundo', 'case'), ('ele', 'obl'), (',', 'punct'), ('o', 'det'), ('proposta', 'nsubj'), ('inicial', 'amod'), ('ser', 'cop'), ('zonear', 'root'), (None, None), ('em', 'case'), ('o', 'det'), ('primeiro', 'amod'), ('ano', 'obl'), ('o', 'det'), ('bacia', 'obj'), (None, None), ('de', 'case'), ('o', 'det'), ('rio', 'nmod'), ('Meia', 'appos'), ('Ponte', 'flat:name'), ('.', 'punct')]\n",
            "[('não', 'advmod'), ('se', 'nsubj'), ('pensar', 'root'), ('que', 'mark'), ('este', 'det'), ('ruptura', 'nsubj'), ('modernizante', 'amod'), ('passar', 'ccomp'), (None, None), ('por', 'case'), ('o', 'det'), ('PT', 'obj'), ('.', 'punct')]\n",
            "[('o', 'det'), ('governo', 'nsubj'), ('não', 'advmod'), ('estar', 'cop'), ('errado', 'root'), ('em', 'mark'), ('formular', 'advcl'), ('regra', 'obj'), ('que', 'nsubj'), ('possibilitar', 'acl:relcl'), ('o', 'det'), ('alongamento', 'obj'), ('.', 'punct')]\n",
            "[('afastar', 'acl'), ('de', 'case'), ('seu', 'det'), ('companheiro', 'obj'), ('de', 'case'), ('ataque', 'nmod'), (',', 'punct'), ('Stoichkov', 'appos'), (',', 'punct'), ('pegar', 'root'), ('pouco', 'advmod'), (None, None), ('em', 'case'), ('o', 'det'), ('bola', 'obl'), ('.', 'punct')]\n",
            "[('«', 'punct'), (None, None), ('em', 'case'), ('o', 'det'), ('vila', 'obl'), (',', 'punct'), ('quando', 'mark'), ('receber', 'advcl'), ('o', 'det'), ('bola', 'obj'), (',', 'punct'), ('ter', 'aux'), ('que', 'mark'), ('ficar', 'root'), ('olhar', 'xcomp'), ('seu', 'det'), ('trajetória', 'obj'), (',', 'punct'), ('para', 'mark'), ('não', 'advmod'), ('ser', 'aux:pass'), ('surpreender', 'advcl'), ('.', 'punct')]\n",
            "[('Venezuela', 'root'), ('--', 'punct'), ('Miguel', 'parataxis'), ('Angel', 'flat:name'), ('Burelli', 'flat:name'), ('Rivas', 'flat:name'), ('(', 'punct'), ('ministro', 'appos'), (None, None), ('de', 'case'), ('o', 'det'), ('Relações', 'nmod'), ('Exteriores', 'flat:name'), (')', 'punct')]\n",
            "[('até', 'case'), ('aqui', 'advmod'), (',', 'punct'), ('o', 'det'), ('tiro', 'nsubj'), ('de', 'case'), ('Lula', 'nmod'), ('parecer', 'root'), ('não', 'advmod'), ('ter', 'aux'), ('abalar', 'xcomp'), ('o', 'det'), ('alvo', 'obj'), ('.', 'punct')]\n",
            "[('Moscou', 'nsubj'), ('exigir', 'root'), ('que', 'mark'), ('conferência', 'nsubj'), ('sobre', 'case'), ('segurança', 'nmod'), ('europeu', 'amod'), ('recompensar', 'ccomp'), ('o', 'det'), ('Sérvia', 'obj'), ('por', 'mark'), ('pressionar', 'xcomp'), ('sérvio-bosnio', 'obj')]\n",
            "[(None, None), ('em', 'case'), ('o', 'det'), ('parágrafo', 'obl'), ('único', 'amod'), (None, None), ('de', 'case'), ('o', 'det'), ('seu', 'det'), ('primeiro', 'amod'), ('artigo', 'nmod'), (',', 'punct'), ('ele', 'nsubj'), ('afirmar', 'root'), ('que', 'mark'), ('o', 'det'), ('candidato', 'nsubj'), ('não', 'advmod'), ('poder', 'ccomp'), ('apresentar', 'xcomp'), ('«', 'punct'), ('patologia', 'obj'), ('com', 'case'), ('perspectiva', 'nmod'), ('presente', 'amod'), (',', 'punct'), ('de', 'case'), ('incapacidade', 'nmod'), (None, None), ('em', 'case'), ('o', 'det'), ('futuro', 'nmod'), ('»', 'punct'), ('.', 'punct')]\n",
            "[('custar', 'root'), ('US$', 'obj'), ('45', 'nummod'), (None, None), ('em', 'case'), ('o', 'det'), ('Multimídia', 'obl'), ('Center', 'flat:name'), ('(', 'punct'), ('tel', 'appos'), ('011', 'fixed'), ('959-2650', 'flat'), (')', 'punct'), ('.', 'punct')]\n",
            "[('a', 'case'), ('partir', 'fixed'), (None, None), ('de', 'fixed'), ('o', 'det'), ('dia', 'obl'), ('17', 'nummod'), (',', 'punct'), ('o', 'det'), ('Playtronic', 'nsubj'), ('também', 'advmod'), ('ter', 'root'), ('um', 'det'), ('estande', 'obj'), (None, None), ('em', 'case'), ('o', 'det'), ('Iguatemi', 'obl'), ('.', 'punct')]\n",
            "[('o', 'det'), ('motorista', 'nsubj'), (None, None), ('de', 'case'), ('o', 'det'), ('EMTU', 'nmod'), ('(', 'punct'), ('Empresa', 'appos'), ('Metropolitana', 'flat:name'), ('de', 'case'), ('Transportes', 'nmod'), ('Urbanos', 'flat:name'), (')', 'punct'), (',', 'punct'), ('empresa', 'appos'), (None, None), ('de', 'case'), ('o', 'det'), ('governo', 'nmod'), (None, None), ('de', 'case'), ('o', 'det'), ('estado', 'nmod'), (',', 'punct'), ('ter', 'root'), ('o', 'det'), ('mesmo', 'amod'), ('piso', 'obj'), ('salarial', 'amod'), (None, None), ('de', 'case'), ('o', 'det'), ('empresa', 'nmod'), ('privado', 'amod'), ('.', 'punct')]\n",
            "[('infância', 'root'), (':', 'punct')]\n",
            "[(None, None), ('em', 'case'), ('o', 'det'), ('ataque', 'root')]\n"
          ]
        }
      ]
    },
    {
      "cell_type": "code",
      "source": [
        "# import pandas as pd"
      ],
      "metadata": {
        "id": "1DcwolFyNnj4"
      },
      "execution_count": null,
      "outputs": []
    },
    {
      "cell_type": "code",
      "source": [
        "# d = {'col1': word_rel_sentence, 'col2': bio_sentence}\n",
        "# df = pd.DataFrame(data = d)\n",
        "# df"
      ],
      "metadata": {
        "id": "FQD2MN7zMkfX",
        "colab": {
          "base_uri": "https://localhost:8080/",
          "height": 423
        },
        "outputId": "9d6bf63a-ed2a-4f9b-d833-02a58c4ea0e3"
      },
      "execution_count": null,
      "outputs": [
        {
          "output_type": "execute_result",
          "data": {
            "text/html": [
              "\n",
              "  <div id=\"df-5ccaa555-1641-4b5a-9d5e-85b2558a6c37\">\n",
              "    <div class=\"colab-df-container\">\n",
              "      <div>\n",
              "<style scoped>\n",
              "    .dataframe tbody tr th:only-of-type {\n",
              "        vertical-align: middle;\n",
              "    }\n",
              "\n",
              "    .dataframe tbody tr th {\n",
              "        vertical-align: top;\n",
              "    }\n",
              "\n",
              "    .dataframe thead th {\n",
              "        text-align: right;\n",
              "    }\n",
              "</style>\n",
              "<table border=\"1\" class=\"dataframe\">\n",
              "  <thead>\n",
              "    <tr style=\"text-align: right;\">\n",
              "      <th></th>\n",
              "      <th>col1</th>\n",
              "      <th>col2</th>\n",
              "    </tr>\n",
              "  </thead>\n",
              "  <tbody>\n",
              "    <tr>\n",
              "      <th>0</th>\n",
              "      <td>[(esse, nsubj), (ser, cop), (o, det), (avaliaç...</td>\n",
              "      <td>[O, O, B, I, I, I, I, I, I, I, I, I, I, I, O, ...</td>\n",
              "    </tr>\n",
              "    <tr>\n",
              "      <th>1</th>\n",
              "      <td>[(o, det), (acordo, nsubj), (None, None), (de,...</td>\n",
              "      <td>[B, I, I, I, I, I, O, B, I, I, I, I, I, I, O, ...</td>\n",
              "    </tr>\n",
              "    <tr>\n",
              "      <th>2</th>\n",
              "      <td>[(para, case), (o, det), (volante, obl), (Dinh...</td>\n",
              "      <td>[O, B, I, O, O, O, O, O, O, O, O, O, O, O, O, ...</td>\n",
              "    </tr>\n",
              "    <tr>\n",
              "      <th>3</th>\n",
              "      <td>[(o, det), (reunião, nsubj), (terminar, root),...</td>\n",
              "      <td>[B, I, O, O, O, B, B]</td>\n",
              "    </tr>\n",
              "    <tr>\n",
              "      <th>4</th>\n",
              "      <td>[(CONCERTOS, root), (INTERNACIONAIS, flat:name...</td>\n",
              "      <td>[B, I, I, O, O, O]</td>\n",
              "    </tr>\n",
              "    <tr>\n",
              "      <th>...</th>\n",
              "      <td>...</td>\n",
              "      <td>...</td>\n",
              "    </tr>\n",
              "    <tr>\n",
              "      <th>97</th>\n",
              "      <td>[(custar, root), (US$, obj), (45, nummod), (No...</td>\n",
              "      <td>[O, O, O, O, O, B, I, I, O, O, O, O, O, O]</td>\n",
              "    </tr>\n",
              "    <tr>\n",
              "      <th>98</th>\n",
              "      <td>[(a, case), (partir, fixed), (None, None), (de...</td>\n",
              "      <td>[O, O, O, O, B, I, I, O, B, I, O, O, B, I, I, ...</td>\n",
              "    </tr>\n",
              "    <tr>\n",
              "      <th>99</th>\n",
              "      <td>[(o, det), (motorista, nsubj), (None, None), (...</td>\n",
              "      <td>[B, I, I, I, I, I, O, O, O, O, O, O, O, O, O, ...</td>\n",
              "    </tr>\n",
              "    <tr>\n",
              "      <th>100</th>\n",
              "      <td>[(infância, root), (:, punct)]</td>\n",
              "      <td>[B, O]</td>\n",
              "    </tr>\n",
              "    <tr>\n",
              "      <th>101</th>\n",
              "      <td>[(None, None), (em, case), (o, det), (ataque, ...</td>\n",
              "      <td>[O, O, B, I]</td>\n",
              "    </tr>\n",
              "  </tbody>\n",
              "</table>\n",
              "<p>102 rows × 2 columns</p>\n",
              "</div>\n",
              "      <button class=\"colab-df-convert\" onclick=\"convertToInteractive('df-5ccaa555-1641-4b5a-9d5e-85b2558a6c37')\"\n",
              "              title=\"Convert this dataframe to an interactive table.\"\n",
              "              style=\"display:none;\">\n",
              "        \n",
              "  <svg xmlns=\"http://www.w3.org/2000/svg\" height=\"24px\"viewBox=\"0 0 24 24\"\n",
              "       width=\"24px\">\n",
              "    <path d=\"M0 0h24v24H0V0z\" fill=\"none\"/>\n",
              "    <path d=\"M18.56 5.44l.94 2.06.94-2.06 2.06-.94-2.06-.94-.94-2.06-.94 2.06-2.06.94zm-11 1L8.5 8.5l.94-2.06 2.06-.94-2.06-.94L8.5 2.5l-.94 2.06-2.06.94zm10 10l.94 2.06.94-2.06 2.06-.94-2.06-.94-.94-2.06-.94 2.06-2.06.94z\"/><path d=\"M17.41 7.96l-1.37-1.37c-.4-.4-.92-.59-1.43-.59-.52 0-1.04.2-1.43.59L10.3 9.45l-7.72 7.72c-.78.78-.78 2.05 0 2.83L4 21.41c.39.39.9.59 1.41.59.51 0 1.02-.2 1.41-.59l7.78-7.78 2.81-2.81c.8-.78.8-2.07 0-2.86zM5.41 20L4 18.59l7.72-7.72 1.47 1.35L5.41 20z\"/>\n",
              "  </svg>\n",
              "      </button>\n",
              "      \n",
              "  <style>\n",
              "    .colab-df-container {\n",
              "      display:flex;\n",
              "      flex-wrap:wrap;\n",
              "      gap: 12px;\n",
              "    }\n",
              "\n",
              "    .colab-df-convert {\n",
              "      background-color: #E8F0FE;\n",
              "      border: none;\n",
              "      border-radius: 50%;\n",
              "      cursor: pointer;\n",
              "      display: none;\n",
              "      fill: #1967D2;\n",
              "      height: 32px;\n",
              "      padding: 0 0 0 0;\n",
              "      width: 32px;\n",
              "    }\n",
              "\n",
              "    .colab-df-convert:hover {\n",
              "      background-color: #E2EBFA;\n",
              "      box-shadow: 0px 1px 2px rgba(60, 64, 67, 0.3), 0px 1px 3px 1px rgba(60, 64, 67, 0.15);\n",
              "      fill: #174EA6;\n",
              "    }\n",
              "\n",
              "    [theme=dark] .colab-df-convert {\n",
              "      background-color: #3B4455;\n",
              "      fill: #D2E3FC;\n",
              "    }\n",
              "\n",
              "    [theme=dark] .colab-df-convert:hover {\n",
              "      background-color: #434B5C;\n",
              "      box-shadow: 0px 1px 3px 1px rgba(0, 0, 0, 0.15);\n",
              "      filter: drop-shadow(0px 1px 2px rgba(0, 0, 0, 0.3));\n",
              "      fill: #FFFFFF;\n",
              "    }\n",
              "  </style>\n",
              "\n",
              "      <script>\n",
              "        const buttonEl =\n",
              "          document.querySelector('#df-5ccaa555-1641-4b5a-9d5e-85b2558a6c37 button.colab-df-convert');\n",
              "        buttonEl.style.display =\n",
              "          google.colab.kernel.accessAllowed ? 'block' : 'none';\n",
              "\n",
              "        async function convertToInteractive(key) {\n",
              "          const element = document.querySelector('#df-5ccaa555-1641-4b5a-9d5e-85b2558a6c37');\n",
              "          const dataTable =\n",
              "            await google.colab.kernel.invokeFunction('convertToInteractive',\n",
              "                                                     [key], {});\n",
              "          if (!dataTable) return;\n",
              "\n",
              "          const docLinkHtml = 'Like what you see? Visit the ' +\n",
              "            '<a target=\"_blank\" href=https://colab.research.google.com/notebooks/data_table.ipynb>data table notebook</a>'\n",
              "            + ' to learn more about interactive tables.';\n",
              "          element.innerHTML = '';\n",
              "          dataTable['output_type'] = 'display_data';\n",
              "          await google.colab.output.renderOutput(dataTable, element);\n",
              "          const docLink = document.createElement('div');\n",
              "          docLink.innerHTML = docLinkHtml;\n",
              "          element.appendChild(docLink);\n",
              "        }\n",
              "      </script>\n",
              "    </div>\n",
              "  </div>\n",
              "  "
            ],
            "text/plain": [
              "                                                  col1                                               col2\n",
              "0    [(esse, nsubj), (ser, cop), (o, det), (avaliaç...  [O, O, B, I, I, I, I, I, I, I, I, I, I, I, O, ...\n",
              "1    [(o, det), (acordo, nsubj), (None, None), (de,...  [B, I, I, I, I, I, O, B, I, I, I, I, I, I, O, ...\n",
              "2    [(para, case), (o, det), (volante, obl), (Dinh...  [O, B, I, O, O, O, O, O, O, O, O, O, O, O, O, ...\n",
              "3    [(o, det), (reunião, nsubj), (terminar, root),...                              [B, I, O, O, O, B, B]\n",
              "4    [(CONCERTOS, root), (INTERNACIONAIS, flat:name...                                 [B, I, I, O, O, O]\n",
              "..                                                 ...                                                ...\n",
              "97   [(custar, root), (US$, obj), (45, nummod), (No...         [O, O, O, O, O, B, I, I, O, O, O, O, O, O]\n",
              "98   [(a, case), (partir, fixed), (None, None), (de...  [O, O, O, O, B, I, I, O, B, I, O, O, B, I, I, ...\n",
              "99   [(o, det), (motorista, nsubj), (None, None), (...  [B, I, I, I, I, I, O, O, O, O, O, O, O, O, O, ...\n",
              "100                     [(infância, root), (:, punct)]                                             [B, O]\n",
              "101  [(None, None), (em, case), (o, det), (ataque, ...                                       [O, O, B, I]\n",
              "\n",
              "[102 rows x 2 columns]"
            ]
          },
          "metadata": {},
          "execution_count": 9
        }
      ]
    },
    {
      "cell_type": "code",
      "source": [
        "# Descobrir a maior sentença\n",
        "# maior = 0\n",
        "# for i in df['col1']:\n",
        "#     if len(i) > maior:\n",
        "#         maior = len(i)\n",
        "# print(maior)\n",
        "    "
      ],
      "metadata": {
        "colab": {
          "base_uri": "https://localhost:8080/"
        },
        "id": "R1li68dfbDja",
        "outputId": "2bcc60d5-5580-4978-92cb-74cf2b939f63"
      },
      "execution_count": null,
      "outputs": [
        {
          "output_type": "stream",
          "name": "stdout",
          "text": [
            "63\n"
          ]
        }
      ]
    },
    {
      "cell_type": "code",
      "source": [
        "# Fazer append(None) em cada linha para uniformizar o tamanho\n",
        "\n",
        "# for i in df['col1']:\n",
        "#     while len(i) < maior:\n",
        "#         i.append(0)\n",
        "\n",
        "# for j in df['col2']:\n",
        "#     while len(j) < maior:\n",
        "#         j.append(0)\n",
        "\n",
        "# print(df)"
      ],
      "metadata": {
        "colab": {
          "base_uri": "https://localhost:8080/"
        },
        "id": "QJMWHHt_yj_H",
        "outputId": "c06e6805-382f-4f25-b474-af221a347be9"
      },
      "execution_count": null,
      "outputs": [
        {
          "output_type": "stream",
          "name": "stdout",
          "text": [
            "                                                  col1                                               col2\n",
            "0    [(esse, nsubj), (ser, cop), (o, det), (avaliaç...  [O, O, B, I, I, I, I, I, I, I, I, I, I, I, O, ...\n",
            "1    [(o, det), (acordo, nsubj), (None, None), (de,...  [B, I, I, I, I, I, O, B, I, I, I, I, I, I, O, ...\n",
            "2    [(para, case), (o, det), (volante, obl), (Dinh...  [O, B, I, O, O, O, O, O, O, O, O, O, O, O, O, ...\n",
            "3    [(o, det), (reunião, nsubj), (terminar, root),...  [B, I, O, O, O, B, B, 0, 0, 0, 0, 0, 0, 0, 0, ...\n",
            "4    [(CONCERTOS, root), (INTERNACIONAIS, flat:name...  [B, I, I, O, O, O, 0, 0, 0, 0, 0, 0, 0, 0, 0, ...\n",
            "..                                                 ...                                                ...\n",
            "97   [(custar, root), (US$, obj), (45, nummod), (No...  [O, O, O, O, O, B, I, I, O, O, O, O, O, O, 0, ...\n",
            "98   [(a, case), (partir, fixed), (None, None), (de...  [O, O, O, O, B, I, I, O, B, I, O, O, B, I, I, ...\n",
            "99   [(o, det), (motorista, nsubj), (None, None), (...  [B, I, I, I, I, I, O, O, O, O, O, O, O, O, O, ...\n",
            "100  [(infância, root), (:, punct), 0, 0, 0, 0, 0, ...  [B, O, 0, 0, 0, 0, 0, 0, 0, 0, 0, 0, 0, 0, 0, ...\n",
            "101  [(None, None), (em, case), (o, det), (ataque, ...  [O, O, B, I, 0, 0, 0, 0, 0, 0, 0, 0, 0, 0, 0, ...\n",
            "\n",
            "[102 rows x 2 columns]\n"
          ]
        }
      ]
    },
    {
      "cell_type": "code",
      "source": [
        "from sklearn.model_selection import train_test_split\n",
        "from sklearn.metrics import mean_absolute_error"
      ],
      "metadata": {
        "id": "QWrIXYMjdB0u"
      },
      "execution_count": null,
      "outputs": []
    },
    {
      "cell_type": "code",
      "source": [
        "from pandas.core.algorithms import diff\n",
        "X = df['col1']\n",
        "y = df['col2']\n",
        "\n",
        "train_X, test_X, train_y, test_y = train_test_split(X.values, y.values, test_size=0.2)\n",
        "\n",
        "print(train_X)"
      ],
      "metadata": {
        "id": "6p3jKFRYcD5q",
        "colab": {
          "base_uri": "https://localhost:8080/"
        },
        "outputId": "cbecd8b8-3657-479c-9aff-ed071be40a56"
      },
      "execution_count": null,
      "outputs": [
        {
          "output_type": "stream",
          "name": "stdout",
          "text": [
            "[list([('o', 'det'), ('presidente', 'nsubj'), (None, None), ('de', 'case'), ('o', 'det'), ('Cooper', 'nmod'), (',', 'punct'), ('Benedito', 'appos'), ('Vieira', 'flat:name'), ('Pereira', 'flat:name'), (',', 'punct'), ('49', 'conj'), (',', 'punct'), ('afirmar', 'root'), ('que', 'mark'), ('pretender', 'ccomp'), ('distribuir', 'xcomp'), ('leite', 'obj'), ('c', 'nmod'), (None, None), ('em', 'case'), ('o', 'det'), ('posto', 'obl'), ('de', 'case'), ('venda', 'nmod'), ('hoje', 'advmod'), ('.', 'punct'), 0, 0, 0, 0, 0, 0, 0, 0, 0, 0, 0, 0, 0, 0, 0, 0, 0, 0, 0, 0, 0, 0, 0, 0, 0, 0, 0, 0, 0, 0, 0, 0, 0, 0, 0, 0])\n",
            " list([('o', 'det'), ('mar', 'nsubj'), ('ser', 'cop'), ('cristalino', 'root'), ('.', 'punct'), 0, 0, 0, 0, 0, 0, 0, 0, 0, 0, 0, 0, 0, 0, 0, 0, 0, 0, 0, 0, 0, 0, 0, 0, 0, 0, 0, 0, 0, 0, 0, 0, 0, 0, 0, 0, 0, 0, 0, 0, 0, 0, 0, 0, 0, 0, 0, 0, 0, 0, 0, 0, 0, 0, 0, 0, 0, 0])\n",
            " list([('apenas', 'advmod'), ('dois', 'nummod'), ('árbitro', 'nsubj'), ('resolver', 'root'), ('contar', 'xcomp'), ('todo', 'det'), ('o', 'det'), ('podre', 'obj'), (',', 'punct'), ('enquanto', 'advmod'), ('o', 'det'), ('federação', 'nsubj'), ('ter', 'advcl'), ('mais', 'advmod'), ('de', 'fixed'), ('70', 'obj'), ('.', 'punct'), 0, 0, 0, 0, 0, 0, 0, 0, 0, 0, 0, 0, 0, 0, 0, 0, 0, 0, 0, 0, 0, 0, 0, 0, 0, 0, 0, 0, 0, 0, 0, 0, 0, 0, 0, 0, 0, 0, 0, 0, 0, 0, 0, 0, 0, 0])\n",
            " list([('o', 'det'), ('produtor', 'nsubj'), ('iniciar', 'root'), ('o', 'det'), ('colheita', 'obj'), (',', 'punct'), ('em', 'case'), ('fevereiro', 'obl'), ('passado', 'amod'), (',', 'punct'), ('de', 'case'), ('170', 'nummod'), ('hectare', 'nmod'), ('de', 'case'), ('amendoim', 'nmod'), ('e', 'cc'), ('240', 'nummod'), ('hectare', 'conj'), ('de', 'case'), ('soja', 'nmod'), ('.', 'punct'), 0, 0, 0, 0, 0, 0, 0, 0, 0, 0, 0, 0, 0, 0, 0, 0, 0, 0, 0, 0, 0, 0, 0, 0, 0, 0, 0, 0, 0, 0, 0, 0, 0, 0, 0, 0, 0, 0, 0, 0, 0, 0])\n",
            " list([('segundo', 'case'), ('o', 'det'), ('presidente', 'obl'), (None, None), ('de', 'case'), ('o', 'det'), ('Corecon', 'nmod'), (',', 'punct'), ('Hélio', 'appos'), ('Portocarrero', 'flat:name'), (',', 'punct'), ('o', 'det'), ('inflação', 'nsubj:pass'), (None, None), ('de', 'case'), ('o', 'det'), ('real', 'nmod'), ('não', 'advmod'), ('ser', 'aux:pass'), ('puxar', 'root'), (None, None), ('por', 'case'), ('o', 'det'), ('oligopólio', 'obl:agent'), (',', 'punct'), ('apontar', 'acl'), (None, None), ('por', 'case'), ('o', 'det'), ('equipe', 'obl:agent'), ('econômico', 'amod'), (None, None), ('de', 'case'), ('o', 'det'), ('governo', 'nmod'), ('como', 'case'), ('o', 'det'), ('principal', 'amod'), ('vilão', 'xcomp'), (None, None), ('em', 'case'), ('o', 'det'), ('subida', 'nmod'), ('de', 'case'), ('preço', 'nmod'), ('após', 'case'), ('o', 'det'), ('implantação', 'nmod'), (None, None), ('de', 'case'), ('o', 'det'), ('urv', 'nmod'), ('.', 'punct'), 0, 0, 0, 0, 0, 0, 0, 0, 0, 0])\n",
            " list([('o', 'det'), ('venda', 'nsubj'), ('bruto', 'amod'), ('cair', 'root'), ('de', 'case'), ('US$', 'obl'), ('3,78', 'nummod'), ('bilhão', 'flat'), ('para', 'case'), ('US$', 'obl'), ('3,57', 'nummod'), ('bilhão', 'flat'), (',', 'punct'), ('consequência', 'obl'), ('de', 'case'), ('redução', 'nmod'), ('tanto', 'cc'), (None, None), ('em', 'case'), ('o', 'det'), ('mercado', 'nmod'), ('interno', 'amod'), ('como', 'cc'), (None, None), ('em', 'case'), ('o', 'det'), ('externo', 'conj'), ('.', 'punct'), 0, 0, 0, 0, 0, 0, 0, 0, 0, 0, 0, 0, 0, 0, 0, 0, 0, 0, 0, 0, 0, 0, 0, 0, 0, 0, 0, 0, 0, 0, 0, 0, 0, 0, 0])\n",
            " list([('o', 'det'), ('Otker', 'nsubj'), ('e', 'cc'), ('o', 'det'), ('Somel', 'conj'), ('ir', 'aux'), ('pedir', 'root'), ('contraprova', 'obj'), ('.', 'punct'), 0, 0, 0, 0, 0, 0, 0, 0, 0, 0, 0, 0, 0, 0, 0, 0, 0, 0, 0, 0, 0, 0, 0, 0, 0, 0, 0, 0, 0, 0, 0, 0, 0, 0, 0, 0, 0, 0, 0, 0, 0, 0, 0, 0, 0, 0, 0, 0, 0, 0, 0, 0, 0, 0])\n",
            " list([('o', 'det'), ('governo', 'nsubj'), ('não', 'advmod'), ('estar', 'cop'), ('errado', 'root'), ('em', 'mark'), ('formular', 'advcl'), ('regra', 'obj'), ('que', 'nsubj'), ('possibilitar', 'acl:relcl'), ('o', 'det'), ('alongamento', 'obj'), ('.', 'punct'), 0, 0, 0, 0, 0, 0, 0, 0, 0, 0, 0, 0, 0, 0, 0, 0, 0, 0, 0, 0, 0, 0, 0, 0, 0, 0, 0, 0, 0, 0, 0, 0, 0, 0, 0, 0, 0, 0, 0, 0, 0, 0, 0, 0, 0, 0, 0, 0, 0, 0])\n",
            " list([('a', 'case'), ('partir', 'fixed'), (None, None), ('de', 'fixed'), ('o', 'det'), ('dia', 'obl'), ('17', 'nummod'), (',', 'punct'), ('o', 'det'), ('Playtronic', 'nsubj'), ('também', 'advmod'), ('ter', 'root'), ('um', 'det'), ('estande', 'obj'), (None, None), ('em', 'case'), ('o', 'det'), ('Iguatemi', 'obl'), ('.', 'punct'), 0, 0, 0, 0, 0, 0, 0, 0, 0, 0, 0, 0, 0, 0, 0, 0, 0, 0, 0, 0, 0, 0, 0, 0, 0, 0, 0, 0, 0, 0, 0, 0, 0, 0, 0, 0, 0, 0, 0, 0, 0, 0, 0, 0])\n",
            " list([('com', 'case'), ('o', 'det'), ('Servaz', 'obl'), (',', 'punct'), ('segundo', 'case'), ('o', 'det'), ('documento', 'obl'), ('obter', 'acl'), (None, None), ('por', 'case'), ('o', 'det'), ('folha', 'obl:agent'), ('o', 'det'), ('Odebrecht', 'nsubj'), ('acertar', 'root'), ('o', 'det'), ('pagamento', 'obj'), ('de', 'case'), ('US$', 'nmod'), ('110', 'nummod'), ('mil', 'flat'), ('mais', 'cc'), ('uma', 'nummod'), ('porcentagem', 'conj'), ('referente', 'advmod'), ('a', 'case'), ('obra', 'obl'), ('de', 'case'), ('abastecimento', 'nmod'), ('de', 'case'), ('água', 'nmod'), ('em', 'case'), ('Roraima', 'obl'), (',', 'punct'), ('ainda', 'mark'), ('a', 'fixed'), ('ser', 'aux:pass'), ('licitar', 'advcl'), ('.', 'punct'), 0, 0, 0, 0, 0, 0, 0, 0, 0, 0, 0, 0, 0, 0, 0, 0, 0, 0, 0, 0, 0, 0, 0, 0])\n",
            " list([('Santana', 'nsubj'), ('ser', 'cop'), ('morador', 'root'), ('antigo', 'amod'), ('de', 'case'), ('Lambari', 'obl'), (\"d'\", 'flat:name'), ('Oeste', 'flat:name'), ('.', 'punct'), 0, 0, 0, 0, 0, 0, 0, 0, 0, 0, 0, 0, 0, 0, 0, 0, 0, 0, 0, 0, 0, 0, 0, 0, 0, 0, 0, 0, 0, 0, 0, 0, 0, 0, 0, 0, 0, 0, 0, 0, 0, 0, 0, 0, 0, 0, 0, 0, 0, 0, 0, 0, 0, 0])\n",
            " list([('Venezuela', 'root'), ('--', 'punct'), ('Miguel', 'parataxis'), ('Angel', 'flat:name'), ('Burelli', 'flat:name'), ('Rivas', 'flat:name'), ('(', 'punct'), ('ministro', 'appos'), (None, None), ('de', 'case'), ('o', 'det'), ('Relações', 'nmod'), ('Exteriores', 'flat:name'), (')', 'punct'), 0, 0, 0, 0, 0, 0, 0, 0, 0, 0, 0, 0, 0, 0, 0, 0, 0, 0, 0, 0, 0, 0, 0, 0, 0, 0, 0, 0, 0, 0, 0, 0, 0, 0, 0, 0, 0, 0, 0, 0, 0, 0, 0, 0, 0, 0, 0, 0, 0])\n",
            " list([('o', 'det'), ('campanha', 'nsubj'), ('eleitoral', 'amod'), (None, None), ('encerrar', 'root'), ('se', 'expl'), (None, None), ('em', 'case'), ('o', 'det'), ('noite', 'obl'), ('de', 'case'), ('quinta-feira', 'nmod'), (',', 'punct'), ('com', 'case'), ('um', 'det'), ('pronunciamento', 'nmod'), ('de', 'case'), ('oito', 'nummod'), ('minuto', 'nmod'), ('de', 'case'), ('todo', 'det'), ('o', 'det'), ('candidato', 'nmod'), ('.', 'punct'), 0, 0, 0, 0, 0, 0, 0, 0, 0, 0, 0, 0, 0, 0, 0, 0, 0, 0, 0, 0, 0, 0, 0, 0, 0, 0, 0, 0, 0, 0, 0, 0, 0, 0, 0, 0, 0, 0, 0])\n",
            " list([('o', 'det'), ('seu', 'det'), ('100', 'nummod'), ('quilômetro', 'nsubj'), ('já', 'advmod'), ('levar', 'root'), ('este', 'det'), ('ano', 'obl'), ('200', 'nummod'), ('mil', 'flat'), ('tonelada', 'obj'), ('de', 'case'), ('soja', 'nmod'), ('.', 'punct'), 0, 0, 0, 0, 0, 0, 0, 0, 0, 0, 0, 0, 0, 0, 0, 0, 0, 0, 0, 0, 0, 0, 0, 0, 0, 0, 0, 0, 0, 0, 0, 0, 0, 0, 0, 0, 0, 0, 0, 0, 0, 0, 0, 0, 0, 0, 0, 0, 0])\n",
            " list([('estilista', 'nsubj'), ('estar', 'root'), (None, None), ('a', 'case'), ('o', 'det'), ('disposição', 'obl'), (None, None), ('de', 'case'), ('o', 'det'), ('cliente', 'nmod'), ('.', 'punct'), 0, 0, 0, 0, 0, 0, 0, 0, 0, 0, 0, 0, 0, 0, 0, 0, 0, 0, 0, 0, 0, 0, 0, 0, 0, 0, 0, 0, 0, 0, 0, 0, 0, 0, 0, 0, 0, 0, 0, 0, 0, 0, 0, 0, 0, 0, 0, 0, 0, 0, 0, 0])\n",
            " list([('Moreira', 'nsubj'), ('Alves', 'flat:name'), ('também', 'advmod'), ('votar', 'root'), ('a', 'case'), ('favor', 'obl'), ('de', 'case'), ('Collor', 'nmod'), ('em', 'case'), ('outro', 'det'), ('dois', 'nummod'), ('mandato', 'obl'), ('de', 'case'), ('segurança', 'nmod'), (',', 'punct'), ('mas', 'cc'), ('ser', 'aux:pass'), ('vencer', 'conj'), (None, None), ('em', 'case'), ('o', 'det'), ('dois', 'nummod'), ('julgamento', 'obl'), ('.', 'punct'), 0, 0, 0, 0, 0, 0, 0, 0, 0, 0, 0, 0, 0, 0, 0, 0, 0, 0, 0, 0, 0, 0, 0, 0, 0, 0, 0, 0, 0, 0, 0, 0, 0, 0, 0, 0, 0, 0, 0])\n",
            " list([('o', 'det'), ('cantora', 'nsubj'), ('e', 'cc'), ('violinista', 'conj'), ('Meca', 'appos'), ('Vargas', 'flat:name'), ('não', 'advmod'), ('fazer', 'root'), ('coro', 'obj'), ('com', 'case'), ('o', 'det'), ('contente', 'nmod'), ('com', 'case'), ('o', 'det'), ('computador', 'obl'), ('.', 'punct'), 0, 0, 0, 0, 0, 0, 0, 0, 0, 0, 0, 0, 0, 0, 0, 0, 0, 0, 0, 0, 0, 0, 0, 0, 0, 0, 0, 0, 0, 0, 0, 0, 0, 0, 0, 0, 0, 0, 0, 0, 0, 0, 0, 0, 0, 0, 0])\n",
            " list([('Argentina', 'nsubj'), ('produzir', 'root'), ('mais', 'det'), ('petróleo', 'obj'), 0, 0, 0, 0, 0, 0, 0, 0, 0, 0, 0, 0, 0, 0, 0, 0, 0, 0, 0, 0, 0, 0, 0, 0, 0, 0, 0, 0, 0, 0, 0, 0, 0, 0, 0, 0, 0, 0, 0, 0, 0, 0, 0, 0, 0, 0, 0, 0, 0, 0, 0, 0, 0, 0, 0, 0, 0, 0, 0])\n",
            " list([('isto', 'nsubj'), ('restringir', 'root'), (None, None), ('a', 'case'), ('o', 'det'), ('Urv', 'iobj'), ('todo', 'det'), ('o', 'det'), ('poder', 'obj'), (None, None), ('de', 'case'), ('o', 'det'), ('moeda', 'nmod'), (None, None), ('de', 'case'), ('o', 'det'), ('país', 'nmod'), ('.', 'punct'), 0, 0, 0, 0, 0, 0, 0, 0, 0, 0, 0, 0, 0, 0, 0, 0, 0, 0, 0, 0, 0, 0, 0, 0, 0, 0, 0, 0, 0, 0, 0, 0, 0, 0, 0, 0, 0, 0, 0, 0, 0, 0, 0, 0, 0])\n",
            " list([('custo', 'root'), (':', 'punct'), ('US$', 'appos'), ('8', 'nummod'), ('por', 'case'), ('tonelada', 'nmod'), ('.', 'punct'), 0, 0, 0, 0, 0, 0, 0, 0, 0, 0, 0, 0, 0, 0, 0, 0, 0, 0, 0, 0, 0, 0, 0, 0, 0, 0, 0, 0, 0, 0, 0, 0, 0, 0, 0, 0, 0, 0, 0, 0, 0, 0, 0, 0, 0, 0, 0, 0, 0, 0, 0, 0, 0, 0, 0, 0])\n",
            " list([('até', 'case'), ('aqui', 'advmod'), (',', 'punct'), ('o', 'det'), ('tiro', 'nsubj'), ('de', 'case'), ('Lula', 'nmod'), ('parecer', 'root'), ('não', 'advmod'), ('ter', 'aux'), ('abalar', 'xcomp'), ('o', 'det'), ('alvo', 'obj'), ('.', 'punct'), 0, 0, 0, 0, 0, 0, 0, 0, 0, 0, 0, 0, 0, 0, 0, 0, 0, 0, 0, 0, 0, 0, 0, 0, 0, 0, 0, 0, 0, 0, 0, 0, 0, 0, 0, 0, 0, 0, 0, 0, 0, 0, 0, 0, 0, 0, 0, 0, 0])\n",
            " list([('se', 'mark'), ('poder', 'advcl'), ('nós', 'obj'), ('orgulhar', 'xcomp'), ('de', 'case'), ('nosso', 'det'), ('futebol', 'iobj'), (',', 'punct'), ('não', 'advmod'), ('poder', 'root'), ('dizer', 'xcomp'), ('o', 'det'), ('mesmo', 'xcomp'), (None, None), ('de', 'case'), ('o', 'det'), ('nosso', 'det'), ('árbitro', 'obj'), (',', 'punct'), ('aqui', 'advmod'), ('representar', 'acl'), ('exatamente', 'advmod'), ('por', 'case'), ('Marsiglia', 'obl:agent'), ('.', 'punct'), 0, 0, 0, 0, 0, 0, 0, 0, 0, 0, 0, 0, 0, 0, 0, 0, 0, 0, 0, 0, 0, 0, 0, 0, 0, 0, 0, 0, 0, 0, 0, 0, 0, 0, 0, 0, 0, 0])\n",
            " list([('o', 'det'), ('nível', 'nsubj'), (None, None), ('de', 'case'), ('o', 'det'), ('depósito', 'nmod'), ('aumentar', 'root'), ('440', 'nummod'), ('%', 'obj'), (',', 'punct'), ('em', 'case'), ('1993', 'obl'), (',', 'punct'), ('basicamente', 'advmod'), ('em', 'case'), ('função', 'obl'), ('de', 'case'), ('depósito', 'nmod'), ('interfinanceiro', 'amod'), ('e', 'cc'), ('a', 'case'), ('prazo', 'conj'), ('.', 'punct'), 0, 0, 0, 0, 0, 0, 0, 0, 0, 0, 0, 0, 0, 0, 0, 0, 0, 0, 0, 0, 0, 0, 0, 0, 0, 0, 0, 0, 0, 0, 0, 0, 0, 0, 0, 0, 0, 0, 0, 0])\n",
            " list([('não', 'advmod'), ('ser', 'cop'), ('o', 'det'), ('único', 'root'), ('.', 'punct'), 0, 0, 0, 0, 0, 0, 0, 0, 0, 0, 0, 0, 0, 0, 0, 0, 0, 0, 0, 0, 0, 0, 0, 0, 0, 0, 0, 0, 0, 0, 0, 0, 0, 0, 0, 0, 0, 0, 0, 0, 0, 0, 0, 0, 0, 0, 0, 0, 0, 0, 0, 0, 0, 0, 0, 0, 0, 0])\n",
            " list([('liberdade', 'root'), ('sindical', 'amod'), 0, 0, 0, 0, 0, 0, 0, 0, 0, 0, 0, 0, 0, 0, 0, 0, 0, 0, 0, 0, 0, 0, 0, 0, 0, 0, 0, 0, 0, 0, 0, 0, 0, 0, 0, 0, 0, 0, 0, 0, 0, 0, 0, 0, 0, 0, 0, 0, 0, 0, 0, 0, 0, 0, 0, 0, 0, 0, 0, 0, 0])\n",
            " list([('o', 'det'), ('governo', 'nsubj'), ('receber', 'root'), ('ontem', 'advmod'), ('outro', 'det'), ('má', 'amod'), ('notícia', 'obj'), (':', 'punct'), ('empresário', 'nsubj'), ('se', 'expl'), ('declarar', 'acl:relcl'), ('contrário', 'xcomp'), (None, None), ('a', 'case'), ('o', 'det'), ('CIP', 'obl'), ('.', 'punct'), 0, 0, 0, 0, 0, 0, 0, 0, 0, 0, 0, 0, 0, 0, 0, 0, 0, 0, 0, 0, 0, 0, 0, 0, 0, 0, 0, 0, 0, 0, 0, 0, 0, 0, 0, 0, 0, 0, 0, 0, 0, 0, 0, 0, 0, 0])\n",
            " list([('para', 'case'), ('o', 'det'), ('psicanalista', 'nmod'), ('Carl', 'appos'), ('Jung', 'flat:name'), (',', 'punct'), ('este', 'nsubj'), ('ser', 'cop'), ('o', 'det'), ('origem', 'root'), (None, None), ('de', 'case'), ('o', 'det'), ('globo', 'nmod'), ('pendurar', 'acl'), (None, None), ('em', 'case'), ('o', 'det'), ('árvore', 'obj'), ('contemporâneo', 'amod'), ('.', 'punct'), 0, 0, 0, 0, 0, 0, 0, 0, 0, 0, 0, 0, 0, 0, 0, 0, 0, 0, 0, 0, 0, 0, 0, 0, 0, 0, 0, 0, 0, 0, 0, 0, 0, 0, 0, 0, 0, 0, 0, 0, 0, 0])\n",
            " list([('o', 'det'), ('acordo', 'nsubj'), (None, None), ('de', 'case'), ('o', 'det'), ('dívida', 'nmod'), ('implicar', 'root'), ('o', 'det'), ('troca', 'obj'), (None, None), ('de', 'case'), ('o', 'det'), ('papel', 'nmod'), ('atual', 'amod'), ('por', 'case'), ('um', 'det'), ('combinação', 'nmod'), ('de', 'case'), ('cinco', 'nummod'), ('tipo', 'nmod'), ('diferente', 'amod'), ('de', 'case'), ('novo', 'amod'), ('papel', 'nmod'), ('.', 'punct'), 0, 0, 0, 0, 0, 0, 0, 0, 0, 0, 0, 0, 0, 0, 0, 0, 0, 0, 0, 0, 0, 0, 0, 0, 0, 0, 0, 0, 0, 0, 0, 0, 0, 0, 0, 0, 0, 0])\n",
            " list([('Muller', 'nsubj'), ('chegar', 'root'), (None, None), ('a', 'case'), ('o', 'det'), ('5h25', 'obl'), ('de', 'case'), ('hoje', 'advmod'), ('a', 'case'), ('São', 'obl'), ('Paulo', 'flat:name'), (',', 'punct'), ('vir', 'advcl'), ('de', 'case'), ('Londres', 'obl'), ('.', 'punct'), 0, 0, 0, 0, 0, 0, 0, 0, 0, 0, 0, 0, 0, 0, 0, 0, 0, 0, 0, 0, 0, 0, 0, 0, 0, 0, 0, 0, 0, 0, 0, 0, 0, 0, 0, 0, 0, 0, 0, 0, 0, 0, 0, 0, 0, 0, 0])\n",
            " list([('não', 'advmod'), ('se', 'nsubj'), ('pensar', 'root'), ('que', 'mark'), ('este', 'det'), ('ruptura', 'nsubj'), ('modernizante', 'amod'), ('passar', 'ccomp'), (None, None), ('por', 'case'), ('o', 'det'), ('PT', 'obj'), ('.', 'punct'), 0, 0, 0, 0, 0, 0, 0, 0, 0, 0, 0, 0, 0, 0, 0, 0, 0, 0, 0, 0, 0, 0, 0, 0, 0, 0, 0, 0, 0, 0, 0, 0, 0, 0, 0, 0, 0, 0, 0, 0, 0, 0, 0, 0, 0, 0, 0, 0, 0, 0])\n",
            " list([('esse', 'nsubj'), ('ser', 'cop'), ('o', 'det'), ('avaliação', 'root'), (None, None), ('de', 'case'), ('o', 'det'), ('Instituto', 'nmod'), ('Internacional', 'flat:name'), ('de', 'case'), ('Estudos', 'nmod'), ('Estratégicos', 'flat:name'), ('de', 'case'), ('Londres', 'nmod'), ('(', 'punct'), ('IIEE', 'appos'), (')', 'punct'), (',', 'punct'), ('um', 'appos'), (None, None), ('de', 'case'), ('o', 'det'), ('mais', 'advmod'), ('importante', 'amod'), ('centro', 'nmod'), ('de', 'case'), ('pesquisa', 'nmod'), ('militar', 'amod'), (None, None), ('de', 'case'), ('o', 'det'), ('Ocidente', 'nmod'), ('.', 'punct'), 0, 0, 0, 0, 0, 0, 0, 0, 0, 0, 0, 0, 0, 0, 0, 0, 0, 0, 0, 0, 0, 0, 0, 0, 0, 0, 0, 0, 0, 0])\n",
            " list([('durante', 'case'), ('o', 'det'), ('almoço', 'obl'), ('familiar', 'amod'), (',', 'punct'), ('por', 'advmod'), ('exemplo', 'fixed'), (',', 'punct'), (None, None), ('falar', 'root'), ('se', 'nsubj'), ('muito', 'advmod'), ('sobre', 'case'), ('quase', 'advmod'), ('nada', 'obj'), ('e', 'cc'), ('ninguém', 'nsubj'), ('mastigar', 'conj'), ('.', 'punct'), 0, 0, 0, 0, 0, 0, 0, 0, 0, 0, 0, 0, 0, 0, 0, 0, 0, 0, 0, 0, 0, 0, 0, 0, 0, 0, 0, 0, 0, 0, 0, 0, 0, 0, 0, 0, 0, 0, 0, 0, 0, 0, 0, 0])\n",
            " list([('felicitar', 'root'), ('.', 'punct'), 0, 0, 0, 0, 0, 0, 0, 0, 0, 0, 0, 0, 0, 0, 0, 0, 0, 0, 0, 0, 0, 0, 0, 0, 0, 0, 0, 0, 0, 0, 0, 0, 0, 0, 0, 0, 0, 0, 0, 0, 0, 0, 0, 0, 0, 0, 0, 0, 0, 0, 0, 0, 0, 0, 0, 0, 0, 0, 0, 0, 0])\n",
            " list([('o', 'det'), ('jogo', 'root'), 0, 0, 0, 0, 0, 0, 0, 0, 0, 0, 0, 0, 0, 0, 0, 0, 0, 0, 0, 0, 0, 0, 0, 0, 0, 0, 0, 0, 0, 0, 0, 0, 0, 0, 0, 0, 0, 0, 0, 0, 0, 0, 0, 0, 0, 0, 0, 0, 0, 0, 0, 0, 0, 0, 0, 0, 0, 0, 0, 0, 0])\n",
            " list([('Collor', 'nsubj'), ('receber', 'root'), ('telefonema', 'obj'), ('o', 'det'), ('tempo', 'obl'), ('inteiro', 'amod'), (',', 'punct'), (None, None), ('de', 'case'), ('o', 'det'), ('advogado', 'nmod'), (',', 'punct'), ('de', 'case'), ('político', 'conj'), ('amigo', 'amod'), ('e', 'cc'), ('de', 'case'), ('pessoa', 'conj'), ('que', 'nsubj'), ('prestar', 'acl:relcl'), ('solidariedade', 'obj'), ('.', 'punct'), 0, 0, 0, 0, 0, 0, 0, 0, 0, 0, 0, 0, 0, 0, 0, 0, 0, 0, 0, 0, 0, 0, 0, 0, 0, 0, 0, 0, 0, 0, 0, 0, 0, 0, 0, 0, 0, 0, 0, 0, 0])\n",
            " list([('o', 'det'), ('grande', 'amod'), ('desaceleração', 'nsubj'), ('ocorrer', 'root'), (None, None), ('em', 'case'), ('o', 'det'), ('região', 'obl'), (None, None), ('de', 'case'), ('o', 'det'), ('Avenida', 'nmod'), ('Faria', 'flat:name'), ('Lima', 'flat:name'), ('.', 'punct'), 0, 0, 0, 0, 0, 0, 0, 0, 0, 0, 0, 0, 0, 0, 0, 0, 0, 0, 0, 0, 0, 0, 0, 0, 0, 0, 0, 0, 0, 0, 0, 0, 0, 0, 0, 0, 0, 0, 0, 0, 0, 0, 0, 0, 0, 0, 0, 0])\n",
            " list([('Gilmar', 'nsubj'), ('pretender', 'root'), ('votar', 'xcomp'), (None, None), ('em', 'case'), ('o', 'det'), ('senador', 'obj'), ('Esperidião', 'appos'), ('Amin', 'flat:name'), ('(', 'punct'), ('PPR-SC', 'parataxis'), (')', 'punct'), ('.', 'punct'), 0, 0, 0, 0, 0, 0, 0, 0, 0, 0, 0, 0, 0, 0, 0, 0, 0, 0, 0, 0, 0, 0, 0, 0, 0, 0, 0, 0, 0, 0, 0, 0, 0, 0, 0, 0, 0, 0, 0, 0, 0, 0, 0, 0, 0, 0, 0, 0, 0, 0])\n",
            " list([('haver', 'root'), ('tiroteio', 'obj'), ('.', 'punct'), 0, 0, 0, 0, 0, 0, 0, 0, 0, 0, 0, 0, 0, 0, 0, 0, 0, 0, 0, 0, 0, 0, 0, 0, 0, 0, 0, 0, 0, 0, 0, 0, 0, 0, 0, 0, 0, 0, 0, 0, 0, 0, 0, 0, 0, 0, 0, 0, 0, 0, 0, 0, 0, 0, 0, 0, 0, 0, 0, 0])\n",
            " list([('jovem', 'amod'), ('estudante', 'obl'), (None, None), ('em', 'case'), ('o', 'det'), ('Belo', 'nmod'), ('Horizonte', 'flat:name'), (None, None), ('de', 'case'), ('o', 'det'), ('ano', 'nmod'), ('20', 'nummod'), (',', 'punct'), ('o', 'det'), ('futuro', 'amod'), ('médico', 'nsubj'), ('Juscelino', 'appos'), ('Kubitschek', 'flat:name'), ('e', 'cc'), ('o', 'det'), ('futuro', 'amod'), ('advogado', 'conj'), ('José', 'appos'), ('Maria', 'flat:name'), ('Alkimin', 'flat:name'), ('costumar', 'root'), ('sair', 'xcomp'), ('junto', 'advmod'), ('em', 'case'), ('busca', 'obl'), ('de', 'case'), ('moça', 'nmod'), ('namoradeiro', 'amod'), ('.', 'punct'), 0, 0, 0, 0, 0, 0, 0, 0, 0, 0, 0, 0, 0, 0, 0, 0, 0, 0, 0, 0, 0, 0, 0, 0, 0, 0, 0, 0, 0])\n",
            " list([(None, None), ('em', 'case'), ('o', 'det'), ('sul', 'nmod'), (',', 'punct'), ('US$', 'root'), ('24', 'nummod'), ('!', 'punct'), 0, 0, 0, 0, 0, 0, 0, 0, 0, 0, 0, 0, 0, 0, 0, 0, 0, 0, 0, 0, 0, 0, 0, 0, 0, 0, 0, 0, 0, 0, 0, 0, 0, 0, 0, 0, 0, 0, 0, 0, 0, 0, 0, 0, 0, 0, 0, 0, 0, 0, 0, 0, 0, 0, 0])\n",
            " list([('ter', 'root'), (',', 'punct'), ('então', 'advmod'), (',', 'punct'), ('um', 'det'), ('meio-campo', 'obj'), ('ainda', 'advmod'), ('mais', 'advmod'), ('sólido', 'amod'), (None, None), ('em', 'case'), ('o', 'det'), ('proteção', 'nmod'), (None, None), ('a', 'case'), ('o', 'det'), ('zaga', 'nmod'), ('e', 'cc'), ('mais', 'advmod'), ('inteligente', 'conj'), (',', 'punct'), ('veloz', 'conj'), ('e', 'cc'), ('agressivo', 'conj'), (',', 'punct'), (None, None), ('em', 'case'), ('o', 'det'), ('combinação', 'nmod'), ('com', 'case'), ('o', 'det'), ('ataque', 'nmod'), ('.', 'punct'), 0, 0, 0, 0, 0, 0, 0, 0, 0, 0, 0, 0, 0, 0, 0, 0, 0, 0, 0, 0, 0, 0, 0, 0, 0, 0, 0, 0, 0, 0])\n",
            " list([('infância', 'root'), (':', 'punct'), 0, 0, 0, 0, 0, 0, 0, 0, 0, 0, 0, 0, 0, 0, 0, 0, 0, 0, 0, 0, 0, 0, 0, 0, 0, 0, 0, 0, 0, 0, 0, 0, 0, 0, 0, 0, 0, 0, 0, 0, 0, 0, 0, 0, 0, 0, 0, 0, 0, 0, 0, 0, 0, 0, 0, 0, 0, 0, 0, 0, 0])\n",
            " list([('comentar', 'root'), ('com', 'case'), ('meu', 'det'), ('amigo', 'iobj'), ('espanhol', 'amod'), (',', 'punct'), ('Dolores', 'appos'), ('de', 'case'), ('Pança', 'nmod'), (',', 'punct'), ('o', 'det'), ('profusão', 'obj'), ('de', 'case'), ('beijo', 'nmod'), ('melar', 'acl'), ('que', 'nsubj'), ('massacrar', 'acl:relcl'), ('meu', 'det'), ('aveludado', 'amod'), ('bochecha', 'obj'), (None, None), ('em', 'case'), ('o', 'det'), ('bienal', 'obl'), ('.', 'punct'), 0, 0, 0, 0, 0, 0, 0, 0, 0, 0, 0, 0, 0, 0, 0, 0, 0, 0, 0, 0, 0, 0, 0, 0, 0, 0, 0, 0, 0, 0, 0, 0, 0, 0, 0, 0, 0, 0])\n",
            " list([('o', 'det'), ('menina', 'nsubj'), ('morrer', 'root'), (None, None), ('em', 'case'), ('o', 'det'), ('hora', 'obl'), ('.', 'punct'), 0, 0, 0, 0, 0, 0, 0, 0, 0, 0, 0, 0, 0, 0, 0, 0, 0, 0, 0, 0, 0, 0, 0, 0, 0, 0, 0, 0, 0, 0, 0, 0, 0, 0, 0, 0, 0, 0, 0, 0, 0, 0, 0, 0, 0, 0, 0, 0, 0, 0, 0, 0, 0, 0, 0])\n",
            " list([('adorar', 'root'), ('se', 'mark'), ('você', 'nsubj'), ('«', 'punct'), ('engordar', 'ccomp'), ('»', 'punct'), ('um', 'advmod'), ('pouco', 'fixed'), ('mais', 'advmod'), ('o', 'det'), ('Folhateen', 'obj'), ('.', 'punct'), 0, 0, 0, 0, 0, 0, 0, 0, 0, 0, 0, 0, 0, 0, 0, 0, 0, 0, 0, 0, 0, 0, 0, 0, 0, 0, 0, 0, 0, 0, 0, 0, 0, 0, 0, 0, 0, 0, 0, 0, 0, 0, 0, 0, 0, 0, 0, 0, 0, 0, 0])\n",
            " list([(None, None), ('a', 'case'), ('o', 'det'), ('noite', 'obl'), ('vir', 'root'), ('a', 'case'), ('São', 'obl'), ('Paulo', 'flat:name'), ('para', 'mark'), ('participar', 'advcl'), (None, None), ('de', 'case'), ('o', 'det'), ('programa', 'obj'), ('«', 'punct'), ('Fogo', 'appos'), ('Cruzado', 'flat:name'), ('»', 'punct'), ('.', 'punct'), 0, 0, 0, 0, 0, 0, 0, 0, 0, 0, 0, 0, 0, 0, 0, 0, 0, 0, 0, 0, 0, 0, 0, 0, 0, 0, 0, 0, 0, 0, 0, 0, 0, 0, 0, 0, 0, 0, 0, 0, 0, 0, 0, 0])\n",
            " list([('modelo', 'root'), ('sindical', 'amod'), ('e', 'cc'), ('negociação', 'conj'), ('coletivo', 'amod'), 0, 0, 0, 0, 0, 0, 0, 0, 0, 0, 0, 0, 0, 0, 0, 0, 0, 0, 0, 0, 0, 0, 0, 0, 0, 0, 0, 0, 0, 0, 0, 0, 0, 0, 0, 0, 0, 0, 0, 0, 0, 0, 0, 0, 0, 0, 0, 0, 0, 0, 0, 0, 0, 0, 0, 0, 0, 0])\n",
            " list([('sequer', 'advmod'), ('ele', 'iobj'), ('ocorrer', 'root'), ('que', 'mark'), ('em', 'case'), ('fevereiro', 'obl'), ('o', 'det'), ('«', 'punct'), ('excesso', 'nsubj:pass'), ('»', 'punct'), ('de', 'case'), ('aumento', 'nmod'), ('poder', 'csubj'), ('ser', 'aux:pass'), ('compensar', 'xcomp'), ('.', 'punct'), 0, 0, 0, 0, 0, 0, 0, 0, 0, 0, 0, 0, 0, 0, 0, 0, 0, 0, 0, 0, 0, 0, 0, 0, 0, 0, 0, 0, 0, 0, 0, 0, 0, 0, 0, 0, 0, 0, 0, 0, 0, 0, 0, 0, 0, 0, 0])\n",
            " list([('como', 'case'), ('exemplo', 'xcomp'), (None, None), ('em', 'case'), ('o', 'det'), ('combate', 'nmod'), (None, None), ('a', 'case'), ('o', 'det'), ('violência', 'nmod'), (',', 'punct'), ('o', 'det'), ('prefeito', 'nsubj'), ('carioca', 'amod'), ('citar', 'root'), ('o', 'det'), ('criação', 'obj'), (None, None), ('de', 'case'), ('o', 'det'), ('Guarda', 'nmod'), ('Municipal', 'flat:name'), (',', 'punct'), ('um', 'det'), ('grupo', 'appos'), ('de', 'case'), ('atividade', 'nmod'), ('especial', 'amod'), ('que', 'nsubj'), ('ter', 'aux'), ('atuar', 'acl:relcl'), ('mais', 'advmod'), (None, None), ('em', 'case'), ('o', 'det'), ('liberação', 'obj'), ('de', 'case'), ('área', 'nmod'), ('tradicionalmente', 'advmod'), ('ocupar', 'acl'), ('por', 'case'), ('camelô', 'obl:agent'), ('.', 'punct'), 0, 0, 0, 0, 0, 0, 0, 0, 0, 0, 0, 0, 0, 0, 0, 0, 0, 0, 0, 0])\n",
            " list([('tomar', 'acl'), ('de', 'case'), ('surpresa', 'obl'), (',', 'punct'), ('Santana', 'nsubj'), ('dar', 'root'), ('um', 'det'), ('sorriso', 'obj'), ('amarelo', 'amod'), (',', 'punct'), ('mas', 'cc'), ('logo', 'advmod'), (None, None), ('recuperar', 'conj'), ('se', 'expl'), (':', 'punct'), 0, 0, 0, 0, 0, 0, 0, 0, 0, 0, 0, 0, 0, 0, 0, 0, 0, 0, 0, 0, 0, 0, 0, 0, 0, 0, 0, 0, 0, 0, 0, 0, 0, 0, 0, 0, 0, 0, 0, 0, 0, 0, 0, 0, 0, 0, 0])\n",
            " list([(None, None), ('em', 'case'), ('o', 'det'), ('PPR', 'nmod'), (',', 'punct'), ('o', 'det'), ('discussão', 'nsubj'), ('ser', 'cop'), ('sobre', 'case'), ('o', 'det'), ('política', 'root'), ('de', 'case'), ('aliança', 'nmod'), ('e', 'cc'), ('se', 'mark'), ('ela', 'nsubj'), ('incluir', 'conj'), ('o', 'det'), ('psdb', 'obj'), (',', 'punct'), ('além', 'cc'), (None, None), ('de', 'fixed'), ('o', 'det'), ('novo', 'amod'), ('candidato', 'conj'), (None, None), ('de', 'case'), ('o', 'det'), ('partido', 'nmod'), ('a', 'case'), ('presidente', 'nmod'), ('.', 'punct'), 0, 0, 0, 0, 0, 0, 0, 0, 0, 0, 0, 0, 0, 0, 0, 0, 0, 0, 0, 0, 0, 0, 0, 0, 0, 0, 0, 0, 0, 0])\n",
            " list([('não', 'advmod'), ('eu', 'obj'), ('comprometer', 'root'), 0, 0, 0, 0, 0, 0, 0, 0, 0, 0, 0, 0, 0, 0, 0, 0, 0, 0, 0, 0, 0, 0, 0, 0, 0, 0, 0, 0, 0, 0, 0, 0, 0, 0, 0, 0, 0, 0, 0, 0, 0, 0, 0, 0, 0, 0, 0, 0, 0, 0, 0, 0, 0, 0, 0, 0, 0, 0, 0, 0])\n",
            " list([('só', 'advmod'), ('intelectual', 'root'), ('quatro-olhos', 'nmod'), ('?', 'punct'), 0, 0, 0, 0, 0, 0, 0, 0, 0, 0, 0, 0, 0, 0, 0, 0, 0, 0, 0, 0, 0, 0, 0, 0, 0, 0, 0, 0, 0, 0, 0, 0, 0, 0, 0, 0, 0, 0, 0, 0, 0, 0, 0, 0, 0, 0, 0, 0, 0, 0, 0, 0, 0, 0, 0, 0, 0, 0, 0])\n",
            " list([('o', 'det'), ('reunião', 'nsubj'), ('de', 'case'), ('bispo', 'nmod'), ('discutir', 'root'), ('o', 'det'), ('vida', 'obj'), ('de', 'case'), ('padre', 'nmod'), ('e', 'cc'), ('freira', 'conj'), ('.', 'punct'), 0, 0, 0, 0, 0, 0, 0, 0, 0, 0, 0, 0, 0, 0, 0, 0, 0, 0, 0, 0, 0, 0, 0, 0, 0, 0, 0, 0, 0, 0, 0, 0, 0, 0, 0, 0, 0, 0, 0, 0, 0, 0, 0, 0, 0, 0, 0, 0, 0, 0, 0])\n",
            " list([(None, None), ('em', 'case'), ('o', 'det'), ('ataque', 'root'), 0, 0, 0, 0, 0, 0, 0, 0, 0, 0, 0, 0, 0, 0, 0, 0, 0, 0, 0, 0, 0, 0, 0, 0, 0, 0, 0, 0, 0, 0, 0, 0, 0, 0, 0, 0, 0, 0, 0, 0, 0, 0, 0, 0, 0, 0, 0, 0, 0, 0, 0, 0, 0, 0, 0, 0, 0, 0, 0])\n",
            " list([('além', 'advmod'), ('de', 'case'), ('muito', 'advmod'), ('ruim', 'obl'), (',', 'punct'), ('o', 'det'), ('filme', 'nsubj'), ('«', 'punct'), ('O', 'appos'), ('Magnata', 'flat:name'), ('Grego', 'flat:name'), ('»', 'punct'), ('(', 'punct'), ('The', 'appos'), ('Greek', 'flat:name'), ('Tycoon', 'flat:name'), (')', 'punct'), ('dedicar', 'root'), ('mais', 'det'), ('atenção', 'obj'), (None, None), ('a', 'case'), ('o', 'det'), ('seu', 'det'), ('segundo', 'amod'), ('marido', 'iobj'), (',', 'punct'), ('interpretar', 'acl'), ('por', 'case'), ('Anthony', 'obl:agent'), ('Quinn', 'flat:name'), (',', 'punct'), ('que', 'nsubj'), ('aliás', 'advmod'), ('fazer', 'acl:relcl'), ('o', 'det'), ('papel', 'obj'), ('de', 'case'), ('Sócrates', 'nmod'), ('Onassis', 'flat:name'), ('(', 'punct'), ('sogro', 'appos'), ('de', 'case'), ('Jackie', 'nmod'), (')', 'punct'), (None, None), ('em', 'case'), ('o', 'det'), ('telefilme', 'obl'), ('«', 'punct'), ('Onassis:', 'appos'), ('The', 'flat:name'), ('Richest', 'flat:name'), ('Man', 'flat:name'), ('in', 'flat:name'), ('the', 'flat:name'), ('World', 'flat:name'), ('»', 'punct'), (',', 'punct'), ('produzir', 'acl'), ('em', 'case'), ('1988', 'obl'), ('.', 'punct')])\n",
            " list([('coincidentemente', 'advmod'), (',', 'punct'), ('Jason', 'nsubj'), ('também', 'advmod'), ('levar', 'root'), ('o', 'det'), ('grande', 'amod'), ('número', 'obj'), ('de', 'case'), ('bala', 'nmod'), ('(', 'punct'), ('132', 'appos'), (')', 'punct'), (',', 'punct'), ('contra', 'case'), ('27', 'obl'), ('de', 'case'), ('Michael', 'nmod'), ('Myers', 'flat:name'), ('e', 'cc'), ('apenas', 'advmod'), ('seis', 'conj'), ('de', 'case'), ('Freddy', 'nmod'), ('Krueger', 'flat:name'), ('.', 'punct'), 0, 0, 0, 0, 0, 0, 0, 0, 0, 0, 0, 0, 0, 0, 0, 0, 0, 0, 0, 0, 0, 0, 0, 0, 0, 0, 0, 0, 0, 0, 0, 0, 0, 0, 0, 0, 0])\n",
            " list([('o', 'det'), ('reunião', 'nsubj'), ('terminar', 'root'), ('ontem', 'advmod'), ('em', 'case'), ('Budapeste', 'obl'), ('.', 'punct'), 0, 0, 0, 0, 0, 0, 0, 0, 0, 0, 0, 0, 0, 0, 0, 0, 0, 0, 0, 0, 0, 0, 0, 0, 0, 0, 0, 0, 0, 0, 0, 0, 0, 0, 0, 0, 0, 0, 0, 0, 0, 0, 0, 0, 0, 0, 0, 0, 0, 0, 0, 0, 0, 0, 0, 0])\n",
            " list([('pois', 'discourse'), ('é', 'fixed'), (',', 'punct'), ('Palmeiras', 'nsubj'), ('e', 'cc'), ('Corinthians', 'conj'), ('fazer', 'root'), ('hoje', 'advmod'), ('o', 'det'), ('finalíssima', 'obj'), (None, None), ('de', 'case'), ('o', 'det'), ('brasileiro', 'nmod'), ('.', 'punct'), 0, 0, 0, 0, 0, 0, 0, 0, 0, 0, 0, 0, 0, 0, 0, 0, 0, 0, 0, 0, 0, 0, 0, 0, 0, 0, 0, 0, 0, 0, 0, 0, 0, 0, 0, 0, 0, 0, 0, 0, 0, 0, 0, 0, 0, 0, 0, 0])\n",
            " list([('papa', 'nsubj'), ('indicar', 'root'), ('mulher', 'obj'), ('para', 'case'), ('secretaria', 'iobj'), 0, 0, 0, 0, 0, 0, 0, 0, 0, 0, 0, 0, 0, 0, 0, 0, 0, 0, 0, 0, 0, 0, 0, 0, 0, 0, 0, 0, 0, 0, 0, 0, 0, 0, 0, 0, 0, 0, 0, 0, 0, 0, 0, 0, 0, 0, 0, 0, 0, 0, 0, 0, 0, 0, 0, 0, 0, 0])\n",
            " list([('até', 'case'), ('agora', 'advmod'), (',', 'punct'), ('o', 'det'), ('Bradesco', 'nsubj'), ('VISA', 'flat:name'), ('financiar', 'root'), ('em', 'case'), ('até', 'case'), ('quatro', 'nmod'), ('parcela', 'obl'), (',', 'punct'), ('com', 'case'), ('o', 'det'), ('juro', 'nmod'), ('cobrar', 'acl'), ('sobre', 'case'), ('o', 'det'), ('cruzeiro', 'obl'), ('real', 'amod'), ('.', 'punct'), 0, 0, 0, 0, 0, 0, 0, 0, 0, 0, 0, 0, 0, 0, 0, 0, 0, 0, 0, 0, 0, 0, 0, 0, 0, 0, 0, 0, 0, 0, 0, 0, 0, 0, 0, 0, 0, 0, 0, 0, 0, 0])\n",
            " list([('o', 'det'), ('taxa', 'nsubj'), ('de', 'case'), ('juro', 'nmod'), ('equivalente', 'amod'), (None, None), ('de', 'case'), ('o', 'det'), ('CDBs', 'nmod'), ('diminuir', 'root'), ('2,31', 'nummod'), ('ponto', 'obj'), ('percentual', 'amod'), ('em', 'case'), ('relação', 'obl'), (None, None), ('a', 'case'), ('o', 'det'), ('média', 'nmod'), (None, None), ('de', 'case'), ('o', 'det'), ('último', 'amod'), ('segunda-feira', 'nmod'), ('.', 'punct'), 0, 0, 0, 0, 0, 0, 0, 0, 0, 0, 0, 0, 0, 0, 0, 0, 0, 0, 0, 0, 0, 0, 0, 0, 0, 0, 0, 0, 0, 0, 0, 0, 0, 0, 0, 0, 0, 0])\n",
            " list([('CONCERTOS', 'root'), ('INTERNACIONAIS', 'flat:name'), ('GLOBO', 'flat:name'), (',', 'punct'), ('0h', 'appos'), ('.', 'punct'), 0, 0, 0, 0, 0, 0, 0, 0, 0, 0, 0, 0, 0, 0, 0, 0, 0, 0, 0, 0, 0, 0, 0, 0, 0, 0, 0, 0, 0, 0, 0, 0, 0, 0, 0, 0, 0, 0, 0, 0, 0, 0, 0, 0, 0, 0, 0, 0, 0, 0, 0, 0, 0, 0, 0, 0, 0])\n",
            " list([('segundo', 'case'), ('ele', 'obl'), (',', 'punct'), ('o', 'det'), ('proposta', 'nsubj'), ('inicial', 'amod'), ('ser', 'cop'), ('zonear', 'root'), (None, None), ('em', 'case'), ('o', 'det'), ('primeiro', 'amod'), ('ano', 'obl'), ('o', 'det'), ('bacia', 'obj'), (None, None), ('de', 'case'), ('o', 'det'), ('rio', 'nmod'), ('Meia', 'appos'), ('Ponte', 'flat:name'), ('.', 'punct'), 0, 0, 0, 0, 0, 0, 0, 0, 0, 0, 0, 0, 0, 0, 0, 0, 0, 0, 0, 0, 0, 0, 0, 0, 0, 0, 0, 0, 0, 0, 0, 0, 0, 0, 0, 0, 0, 0, 0, 0, 0])\n",
            " list([('quem', 'nsubj'), ('experimentar', 'csubj'), ('o', 'det'), ('último', 'amod'), ('versão', 'obj'), ('(', 'punct'), ('safra', 'appos'), ('91', 'nummod'), (')', 'punct'), ('descobrir', 'root'), ('um', 'det'), ('vinho', 'obj'), ('novo', 'amod'), ('ainda', 'advmod'), (',', 'punct'), ('adstringente', 'amod'), (',', 'punct'), ('mas', 'cc'), ('de', 'case'), ('aroma', 'conj'), ('e', 'cc'), ('sabor', 'conj'), ('intenso', 'amod'), ('.', 'punct'), 0, 0, 0, 0, 0, 0, 0, 0, 0, 0, 0, 0, 0, 0, 0, 0, 0, 0, 0, 0, 0, 0, 0, 0, 0, 0, 0, 0, 0, 0, 0, 0, 0, 0, 0, 0, 0, 0, 0])\n",
            " list([('o', 'det'), ('motorista', 'nsubj'), (None, None), ('de', 'case'), ('o', 'det'), ('EMTU', 'nmod'), ('(', 'punct'), ('Empresa', 'appos'), ('Metropolitana', 'flat:name'), ('de', 'case'), ('Transportes', 'nmod'), ('Urbanos', 'flat:name'), (')', 'punct'), (',', 'punct'), ('empresa', 'appos'), (None, None), ('de', 'case'), ('o', 'det'), ('governo', 'nmod'), (None, None), ('de', 'case'), ('o', 'det'), ('estado', 'nmod'), (',', 'punct'), ('ter', 'root'), ('o', 'det'), ('mesmo', 'amod'), ('piso', 'obj'), ('salarial', 'amod'), (None, None), ('de', 'case'), ('o', 'det'), ('empresa', 'nmod'), ('privado', 'amod'), ('.', 'punct'), 0, 0, 0, 0, 0, 0, 0, 0, 0, 0, 0, 0, 0, 0, 0, 0, 0, 0, 0, 0, 0, 0, 0, 0, 0, 0, 0, 0])\n",
            " list([('esse', 'det'), ('dificuldade', 'nsubj'), (',', 'punct'), ('que', 'nsubj'), ('surgir', 'acl:relcl'), ('desde', 'case'), ('o', 'det'), ('lançamento', 'obl'), (None, None), ('de', 'case'), ('o', 'det'), ('idéia', 'nmod'), (',', 'punct'), ('estimular', 'root'), ('economista', 'obj'), ('e', 'cc'), ('governo', 'conj'), ('a', 'mark'), ('buscar', 'xcomp'), ('caminho', 'obj'), ('mais', 'advmod'), ('rápido', 'amod'), ('.', 'punct'), 0, 0, 0, 0, 0, 0, 0, 0, 0, 0, 0, 0, 0, 0, 0, 0, 0, 0, 0, 0, 0, 0, 0, 0, 0, 0, 0, 0, 0, 0, 0, 0, 0, 0, 0, 0, 0, 0, 0, 0])\n",
            " list([('«', 'punct'), (None, None), ('em', 'case'), ('o', 'det'), ('vila', 'obl'), (',', 'punct'), ('quando', 'mark'), ('receber', 'advcl'), ('o', 'det'), ('bola', 'obj'), (',', 'punct'), ('ter', 'aux'), ('que', 'mark'), ('ficar', 'root'), ('olhar', 'xcomp'), ('seu', 'det'), ('trajetória', 'obj'), (',', 'punct'), ('para', 'mark'), ('não', 'advmod'), ('ser', 'aux:pass'), ('surpreender', 'advcl'), ('.', 'punct'), 0, 0, 0, 0, 0, 0, 0, 0, 0, 0, 0, 0, 0, 0, 0, 0, 0, 0, 0, 0, 0, 0, 0, 0, 0, 0, 0, 0, 0, 0, 0, 0, 0, 0, 0, 0, 0, 0, 0, 0])\n",
            " list([('para', 'case'), ('o', 'det'), ('volante', 'obl'), ('Dinho', 'appos'), (',', 'punct'), ('um', 'appos'), (None, None), ('de', 'case'), ('o', 'det'), ('jogador', 'nmod'), ('responsável', 'amod'), (None, None), ('por', 'case'), ('o', 'det'), ('setor', 'obl'), ('de', 'case'), ('marcação', 'nmod'), (None, None), ('de', 'case'), ('o', 'det'), ('Santos', 'nmod'), (',', 'punct'), ('ser', 'cop'), ('impossível', 'root'), ('segurar', 'csubj'), ('o', 'det'), ('ataque', 'obj'), (None, None), ('de', 'case'), ('o', 'det'), ('São', 'nmod'), ('Paulo', 'flat:name'), (None, None), ('de', 'case'), ('o', 'det'), ('técnico', 'nmod'), ('Telê', 'appos'), ('Santana', 'flat:name'), ('.', 'punct'), 0, 0, 0, 0, 0, 0, 0, 0, 0, 0, 0, 0, 0, 0, 0, 0, 0, 0, 0, 0, 0, 0, 0, 0])\n",
            " list([('por', 'case'), ('que', 'obl'), ('não', 'advmod'), ('publicar', 'root'), ('que', 'mark'), ('o', 'det'), ('PT', 'nsubj'), ('fazer', 'ccomp'), ('um', 'det'), ('seminário', 'obj'), (None, None), ('em', 'case'), ('o', 'det'), ('nordeste', 'obl'), ('sobre', 'case'), ('ela', 'nmod'), ('e', 'cc'), ('concluir', 'conj'), (None, None), ('por', 'case'), ('o', 'det'), ('necessidade', 'obl'), ('de', 'case'), ('seu', 'det'), ('construção', 'nmod'), ('?', 'punct'), 0, 0, 0, 0, 0, 0, 0, 0, 0, 0, 0, 0, 0, 0, 0, 0, 0, 0, 0, 0, 0, 0, 0, 0, 0, 0, 0, 0, 0, 0, 0, 0, 0, 0, 0, 0, 0])\n",
            " list([('Romário', 'nsubj'), ('ser', 'cop'), ('querido', 'parataxis'), (',', 'punct'), ('mas', 'cc'), ('em', 'case'), ('certos', 'det'), ('bar', 'obl'), ('ele', 'nsubj'), ('não', 'advmod'), ('entravar', 'conj'), ('»', 'punct'), (',', 'punct'), ('dizer', 'root'), ('um', 'det'), ('taxista', 'nsubj'), ('.', 'punct'), 0, 0, 0, 0, 0, 0, 0, 0, 0, 0, 0, 0, 0, 0, 0, 0, 0, 0, 0, 0, 0, 0, 0, 0, 0, 0, 0, 0, 0, 0, 0, 0, 0, 0, 0, 0, 0, 0, 0, 0, 0, 0, 0, 0, 0, 0])\n",
            " list([('mas', 'cc'), ('aceitar', 'parataxis'), ('porque', 'advmod'), ('ser', 'cop'), ('um', 'det'), ('gentileza', 'advcl'), (None, None), ('de', 'case'), ('o', 'det'), ('governador', 'nmod'), ('»', 'punct'), (',', 'punct'), ('dizer', 'root'), ('.', 'punct'), 0, 0, 0, 0, 0, 0, 0, 0, 0, 0, 0, 0, 0, 0, 0, 0, 0, 0, 0, 0, 0, 0, 0, 0, 0, 0, 0, 0, 0, 0, 0, 0, 0, 0, 0, 0, 0, 0, 0, 0, 0, 0, 0, 0, 0, 0, 0, 0, 0])\n",
            " list([('mas', 'cc'), ('a', 'case'), ('bordo', 'obl'), ('de', 'case'), ('um', 'det'), (\"'\", 'punct'), ('cadillac', 'nmod'), (\"'\", 'punct'), ('preto', 'amod'), ('conversível', 'amod'), (',', 'punct'), ('o', 'det'), ('presidente', 'nsubj'), ('Menem', 'appos'), ('atravessar', 'root'), ('o', 'det'), ('pista', 'obj'), (None, None), ('de', 'case'), ('o', 'det'), ('parque', 'nmod'), (None, None), ('de', 'case'), ('o', 'det'), ('Sociedade', 'nmod'), ('Rural', 'flat:name'), ('Argentina', 'flat:name'), ('sob', 'case'), ('o', 'det'), ('aplauso', 'obl'), (None, None), ('de', 'case'), ('o', 'det'), ('platéia', 'nmod'), ('de', 'case'), ('cerca', 'advmod'), ('de', 'fixed'), ('10', 'nummod'), ('mil', 'flat'), ('agricultor', 'nmod'), ('.', 'punct'), 0, 0, 0, 0, 0, 0, 0, 0, 0, 0, 0, 0, 0, 0, 0, 0, 0, 0, 0, 0, 0, 0])\n",
            " list([('estar', 'cop'), ('presente', 'root'), ('dirigente', 'nsubj'), (None, None), ('de', 'case'), ('o', 'det'), ('futebol', 'nmod'), (',', 'punct'), ('e', 'cc'), ('autoridade', 'conj'), ('policial', 'amod'), ('civil', 'conj'), ('e', 'cc'), ('militar', 'conj'), ('.', 'punct'), 0, 0, 0, 0, 0, 0, 0, 0, 0, 0, 0, 0, 0, 0, 0, 0, 0, 0, 0, 0, 0, 0, 0, 0, 0, 0, 0, 0, 0, 0, 0, 0, 0, 0, 0, 0, 0, 0, 0, 0, 0, 0, 0, 0, 0, 0, 0, 0])\n",
            " list([('abrir', 'root'), ('o', 'det'), ('perspectiva', 'obj'), ('de', 'case'), ('aplicação', 'nmod'), ('por', 'case'), ('prazo', 'nmod'), ('mais', 'advmod'), ('longo', 'amod'), ('.', 'punct'), 0, 0, 0, 0, 0, 0, 0, 0, 0, 0, 0, 0, 0, 0, 0, 0, 0, 0, 0, 0, 0, 0, 0, 0, 0, 0, 0, 0, 0, 0, 0, 0, 0, 0, 0, 0, 0, 0, 0, 0, 0, 0, 0, 0, 0, 0, 0, 0, 0, 0, 0, 0, 0])\n",
            " list([('peixe', 'nsubj'), ('passar', 'root'), ('a', 'mark'), ('ter', 'xcomp'), ('gosto', 'obj'), ('de', 'case'), ('carne', 'nmod'), ('para', 'case'), ('eu', 'obl'), ('e', 'cc'), ('um', 'det'), ('noite', 'obl'), (None, None), ('de', 'case'), ('este', 'det'), (',', 'punct'), (None, None), ('em', 'case'), ('o', 'det'), ('rodeio', 'obl'), (',', 'punct'), ('eu', 'nsubj'), ('confundir', 'conj'), ('salsicha', 'obj'), ('caseiro', 'amod'), ('com', 'case'), ('frango', 'iobj'), ('kebab', 'nmod'), ('.', 'punct'), 0, 0, 0, 0, 0, 0, 0, 0, 0, 0, 0, 0, 0, 0, 0, 0, 0, 0, 0, 0, 0, 0, 0, 0, 0, 0, 0, 0, 0, 0, 0, 0, 0, 0])\n",
            " list([('segundo', 'case'), ('Rosa', 'obl'), (',', 'punct'), ('nutricionista', 'appos'), ('e', 'cc'), ('professora', 'conj'), (None, None), ('de', 'case'), ('o', 'det'), ('PUC', 'nmod'), ('de', 'case'), ('campina', 'nmod'), (',', 'punct'), ('junto', 'advmod'), ('com', 'case'), ('o', 'det'), ('alimento', 'obl'), ('se', 'expl'), ('«', 'punct'), ('ingerir', 'root'), ('e', 'cc'), ('digerir', 'conj'), ('afeto', 'nsubj'), ('»', 'punct'), ('.', 'punct'), 0, 0, 0, 0, 0, 0, 0, 0, 0, 0, 0, 0, 0, 0, 0, 0, 0, 0, 0, 0, 0, 0, 0, 0, 0, 0, 0, 0, 0, 0, 0, 0, 0, 0, 0, 0, 0, 0])\n",
            " list([('o', 'det'), ('vitrina', 'nsubj'), ('sempre', 'advmod'), ('guardar', 'root'), ('surpresa', 'obj'), (',', 'punct'), ('variar', 'advcl'), ('desde', 'case'), ('o', 'det'), ('caro', 'amod'), ('refinamento', 'obl'), (None, None), ('de', 'case'), ('o', 'det'), ('avenida', 'nmod'), ('Montaigne', 'appos'), ('(', 'punct'), ('que', 'nsubj'), ('concentrar', 'acl:relcl'), ('o', 'det'), ('alto', 'amod'), ('costura', 'obj'), (',', 'punct'), (None, None), ('em', 'case'), ('o', 'det'), ('Champs', 'obl'), ('Elysèes', 'flat:name'), (')', 'punct'), ('até', 'case'), ('o', 'det'), ('pechincha', 'obl'), (None, None), ('em', 'case'), ('o', 'det'), ('pequeno', 'amod'), ('loja', 'nmod'), ('espalhar', 'acl'), (None, None), ('por', 'case'), ('o', 'det'), ('cidade', 'obl'), ('e', 'cc'), (None, None), ('em', 'case'), ('o', 'det'), ('magazine', 'conj'), ('.', 'punct'), 0, 0, 0, 0, 0, 0, 0, 0, 0, 0, 0, 0, 0, 0, 0])\n",
            " list([('afastar', 'acl'), ('de', 'case'), ('seu', 'det'), ('companheiro', 'obj'), ('de', 'case'), ('ataque', 'nmod'), (',', 'punct'), ('Stoichkov', 'appos'), (',', 'punct'), ('pegar', 'root'), ('pouco', 'advmod'), (None, None), ('em', 'case'), ('o', 'det'), ('bola', 'obl'), ('.', 'punct'), 0, 0, 0, 0, 0, 0, 0, 0, 0, 0, 0, 0, 0, 0, 0, 0, 0, 0, 0, 0, 0, 0, 0, 0, 0, 0, 0, 0, 0, 0, 0, 0, 0, 0, 0, 0, 0, 0, 0, 0, 0, 0, 0, 0, 0, 0, 0])\n",
            " list([('o', 'det'), ('equipe', 'nsubj'), ('enfrentar', 'root'), ('o', 'det'), ('time', 'obj'), ('carioca', 'amod'), (None, None), ('a', 'case'), ('o', 'det'), ('20h30', 'obl'), (None, None), ('em', 'case'), ('o', 'det'), ('ginásio', 'obl'), (None, None), ('de', 'case'), ('o', 'det'), ('Tijuca', 'nmod'), ('Tênis', 'flat:name'), ('Clune', 'flat:name'), 0, 0, 0, 0, 0, 0, 0, 0, 0, 0, 0, 0, 0, 0, 0, 0, 0, 0, 0, 0, 0, 0, 0, 0, 0, 0, 0, 0, 0, 0, 0, 0, 0, 0, 0, 0, 0, 0, 0, 0, 0, 0, 0])\n",
            " list([('fantasia', 'root'), ('infantil', 'amod'), (':', 'punct'), 0, 0, 0, 0, 0, 0, 0, 0, 0, 0, 0, 0, 0, 0, 0, 0, 0, 0, 0, 0, 0, 0, 0, 0, 0, 0, 0, 0, 0, 0, 0, 0, 0, 0, 0, 0, 0, 0, 0, 0, 0, 0, 0, 0, 0, 0, 0, 0, 0, 0, 0, 0, 0, 0, 0, 0, 0, 0, 0, 0])]\n"
          ]
        }
      ]
    },
    {
      "cell_type": "code",
      "source": [
        "from sklearn.ensemble import RandomForestClassifier\n",
        "clf = RandomForestClassifier(n_estimators=10)"
      ],
      "metadata": {
        "id": "ihaocRVAU3eH"
      },
      "execution_count": null,
      "outputs": []
    },
    {
      "cell_type": "code",
      "source": [
        "clf.fit(train_X, train_y)"
      ],
      "metadata": {
        "id": "jItPSgEB2F3l"
      },
      "execution_count": null,
      "outputs": []
    },
    {
      "cell_type": "code",
      "source": [
        "from sklearn import xgboost as xgb"
      ],
      "metadata": {
        "id": "1hjTnJRhtSD_"
      },
      "execution_count": null,
      "outputs": []
    }
  ]
}